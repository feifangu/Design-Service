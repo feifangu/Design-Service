{
 "cells": [
  {
   "cell_type": "markdown",
   "id": "fd0a35f5-c009-4dc9-b13e-c6e12723c09c",
   "metadata": {
    "tags": []
   },
   "source": [
    "# Data Science Case 1: Design Service - Classification"
   ]
  },
  {
   "cell_type": "markdown",
   "id": "6acce090-19df-402d-866b-ff0874c5a2e2",
   "metadata": {},
   "source": [
    "__Content__:\n",
    "<br>\n",
    "- Part 1: EDA - Load the dataset and take a quick look\n",
    "<br> \n",
    "- Part 2: Data Cleaning - Replace na with unknown for categorical variables and with zero for numerical variables\n",
    "<br>\n",
    "- Part 3: Data Visualization - Visualize the X variables and y variable and notice the imbalancement of y\n",
    "<br>\n",
    "- Part 4: Feature Engineering - Split dataset into training (to train the model) and test sets (to test the model); one hot encoding on categorical variables; Upsample with SMOTE and downsample with random sampling the datasets to get prepared for different models\n",
    "<br>\n",
    "- Part 5: Modeling - Compare different classification models on their performance (f1, ROC_AUC, accuracy, training time); pick the best one and do grid search with cross validation to tune hyper parameters to optimize\n",
    "<br>\n",
    "- Part 6: Summary - Business strategy recommendation"
   ]
  },
  {
   "cell_type": "markdown",
   "id": "a56cde8a-cdfb-4a75-b795-180731cf831a",
   "metadata": {
    "tags": []
   },
   "source": [
    "## Part 1. EDA"
   ]
  },
  {
   "cell_type": "code",
   "execution_count": 1,
   "id": "5b95a9ab-e61c-4724-b8c9-8021438a60ef",
   "metadata": {
    "execution": {
     "iopub.execute_input": "2022-06-15T23:58:13.978423Z",
     "iopub.status.busy": "2022-06-15T23:58:13.977732Z",
     "iopub.status.idle": "2022-06-15T23:58:14.901090Z",
     "shell.execute_reply": "2022-06-15T23:58:14.900362Z",
     "shell.execute_reply.started": "2022-06-15T23:58:13.978302Z"
    },
    "tags": []
   },
   "outputs": [],
   "source": [
    "# import libraries\n",
    "import pandas as pd\n",
    "import numpy as np\n",
    "import matplotlib.colors as mcolors\n",
    "from importlib import reload #for dev\n",
    "import matplotlib.pyplot as plt\n",
    "import seaborn as sns\n",
    "\n",
    "%matplotlib inline"
   ]
  },
  {
   "cell_type": "code",
   "execution_count": 2,
   "id": "a941aa5b-4a99-4235-9a62-00e7ab9a9683",
   "metadata": {
    "execution": {
     "iopub.execute_input": "2022-06-15T23:58:14.903799Z",
     "iopub.status.busy": "2022-06-15T23:58:14.903073Z",
     "iopub.status.idle": "2022-06-15T23:58:18.134596Z",
     "shell.execute_reply": "2022-06-15T23:58:18.133775Z",
     "shell.execute_reply.started": "2022-06-15T23:58:14.903751Z"
    },
    "tags": []
   },
   "outputs": [],
   "source": [
    "# import data\n",
    "df = pd.read_csv('design_services_dataset_wB1.csv')"
   ]
  },
  {
   "cell_type": "code",
   "execution_count": 3,
   "id": "36517d34-1165-4035-8c12-ae5a2235e9fb",
   "metadata": {
    "execution": {
     "iopub.execute_input": "2022-06-15T23:58:18.136172Z",
     "iopub.status.busy": "2022-06-15T23:58:18.135939Z",
     "iopub.status.idle": "2022-06-15T23:58:18.172822Z",
     "shell.execute_reply": "2022-06-15T23:58:18.171565Z",
     "shell.execute_reply.started": "2022-06-15T23:58:18.136145Z"
    },
    "tags": []
   },
   "outputs": [
    {
     "data": {
      "text/html": [
       "<div>\n",
       "<style scoped>\n",
       "    .dataframe tbody tr th:only-of-type {\n",
       "        vertical-align: middle;\n",
       "    }\n",
       "\n",
       "    .dataframe tbody tr th {\n",
       "        vertical-align: top;\n",
       "    }\n",
       "\n",
       "    .dataframe thead th {\n",
       "        text-align: right;\n",
       "    }\n",
       "</style>\n",
       "<table border=\"1\" class=\"dataframe\">\n",
       "  <thead>\n",
       "    <tr style=\"text-align: right;\">\n",
       "      <th></th>\n",
       "      <th>customer_id</th>\n",
       "      <th>num_items_list</th>\n",
       "      <th>num_lists</th>\n",
       "      <th>avg_session_length</th>\n",
       "      <th>InMarketscore</th>\n",
       "      <th>geos</th>\n",
       "      <th>Avg_brand_pages_viewed</th>\n",
       "      <th>Avg_design_classes_per_session</th>\n",
       "      <th>HolidayShoppers</th>\n",
       "      <th>Avg_SuperBrowse_Pages_per_session</th>\n",
       "      <th>...</th>\n",
       "      <th>Avg_Shop_the_look_sess_With_DSRoom</th>\n",
       "      <th>AvgPDPInfoInteractionPerSession</th>\n",
       "      <th>Avg_RoomPlanner_session</th>\n",
       "      <th>Max_Design_services_ATC_perSession</th>\n",
       "      <th>Avg_STLPage_per_Session</th>\n",
       "      <th>AvgPDPInteraction</th>\n",
       "      <th>AvgDSRelevantClasses</th>\n",
       "      <th>AvgDSRelevantProducts</th>\n",
       "      <th>avg_category_pages_per_session</th>\n",
       "      <th>DS_customer_flag</th>\n",
       "    </tr>\n",
       "  </thead>\n",
       "  <tbody>\n",
       "    <tr>\n",
       "      <th>0</th>\n",
       "      <td>583266</td>\n",
       "      <td>1</td>\n",
       "      <td>0.0</td>\n",
       "      <td>687.680478</td>\n",
       "      <td>NaN</td>\n",
       "      <td>Rural</td>\n",
       "      <td>NaN</td>\n",
       "      <td>NaN</td>\n",
       "      <td>0</td>\n",
       "      <td>0.000000</td>\n",
       "      <td>...</td>\n",
       "      <td>NaN</td>\n",
       "      <td>NaN</td>\n",
       "      <td>0.000000</td>\n",
       "      <td>4.0</td>\n",
       "      <td>0.0</td>\n",
       "      <td>NaN</td>\n",
       "      <td>0.0</td>\n",
       "      <td>NaN</td>\n",
       "      <td>0.129386</td>\n",
       "      <td>0</td>\n",
       "    </tr>\n",
       "    <tr>\n",
       "      <th>1</th>\n",
       "      <td>507698</td>\n",
       "      <td>1</td>\n",
       "      <td>2.0</td>\n",
       "      <td>1066.967614</td>\n",
       "      <td>NaN</td>\n",
       "      <td>Rural</td>\n",
       "      <td>NaN</td>\n",
       "      <td>NaN</td>\n",
       "      <td>0</td>\n",
       "      <td>0.000000</td>\n",
       "      <td>...</td>\n",
       "      <td>NaN</td>\n",
       "      <td>NaN</td>\n",
       "      <td>0.037361</td>\n",
       "      <td>6.0</td>\n",
       "      <td>0.0</td>\n",
       "      <td>NaN</td>\n",
       "      <td>NaN</td>\n",
       "      <td>1.0</td>\n",
       "      <td>0.166618</td>\n",
       "      <td>0</td>\n",
       "    </tr>\n",
       "    <tr>\n",
       "      <th>2</th>\n",
       "      <td>889449</td>\n",
       "      <td>1</td>\n",
       "      <td>0.0</td>\n",
       "      <td>2097.104262</td>\n",
       "      <td>NaN</td>\n",
       "      <td>NaN</td>\n",
       "      <td>NaN</td>\n",
       "      <td>NaN</td>\n",
       "      <td>0</td>\n",
       "      <td>0.000000</td>\n",
       "      <td>...</td>\n",
       "      <td>NaN</td>\n",
       "      <td>0.4</td>\n",
       "      <td>0.000193</td>\n",
       "      <td>7.0</td>\n",
       "      <td>0.0</td>\n",
       "      <td>NaN</td>\n",
       "      <td>1.0</td>\n",
       "      <td>1.0</td>\n",
       "      <td>0.296956</td>\n",
       "      <td>0</td>\n",
       "    </tr>\n",
       "    <tr>\n",
       "      <th>3</th>\n",
       "      <td>477756</td>\n",
       "      <td>2</td>\n",
       "      <td>0.0</td>\n",
       "      <td>64.789735</td>\n",
       "      <td>NaN</td>\n",
       "      <td>NaN</td>\n",
       "      <td>NaN</td>\n",
       "      <td>NaN</td>\n",
       "      <td>0</td>\n",
       "      <td>0.333333</td>\n",
       "      <td>...</td>\n",
       "      <td>NaN</td>\n",
       "      <td>NaN</td>\n",
       "      <td>0.133602</td>\n",
       "      <td>2.0</td>\n",
       "      <td>0.0</td>\n",
       "      <td>NaN</td>\n",
       "      <td>4.0</td>\n",
       "      <td>4.0</td>\n",
       "      <td>0.126711</td>\n",
       "      <td>0</td>\n",
       "    </tr>\n",
       "    <tr>\n",
       "      <th>4</th>\n",
       "      <td>557413</td>\n",
       "      <td>0</td>\n",
       "      <td>2.0</td>\n",
       "      <td>853.492792</td>\n",
       "      <td>NaN</td>\n",
       "      <td>NaN</td>\n",
       "      <td>NaN</td>\n",
       "      <td>NaN</td>\n",
       "      <td>0</td>\n",
       "      <td>30.500000</td>\n",
       "      <td>...</td>\n",
       "      <td>NaN</td>\n",
       "      <td>NaN</td>\n",
       "      <td>0.000000</td>\n",
       "      <td>NaN</td>\n",
       "      <td>0.0</td>\n",
       "      <td>NaN</td>\n",
       "      <td>0.0</td>\n",
       "      <td>1.0</td>\n",
       "      <td>0.420142</td>\n",
       "      <td>0</td>\n",
       "    </tr>\n",
       "  </tbody>\n",
       "</table>\n",
       "<p>5 rows × 24 columns</p>\n",
       "</div>"
      ],
      "text/plain": [
       "   customer_id  num_items_list  num_lists  avg_session_length  InMarketscore  \\\n",
       "0       583266               1        0.0          687.680478            NaN   \n",
       "1       507698               1        2.0         1066.967614            NaN   \n",
       "2       889449               1        0.0         2097.104262            NaN   \n",
       "3       477756               2        0.0           64.789735            NaN   \n",
       "4       557413               0        2.0          853.492792            NaN   \n",
       "\n",
       "    geos  Avg_brand_pages_viewed  Avg_design_classes_per_session  \\\n",
       "0  Rural                     NaN                             NaN   \n",
       "1  Rural                     NaN                             NaN   \n",
       "2    NaN                     NaN                             NaN   \n",
       "3    NaN                     NaN                             NaN   \n",
       "4    NaN                     NaN                             NaN   \n",
       "\n",
       "   HolidayShoppers  Avg_SuperBrowse_Pages_per_session  ...  \\\n",
       "0                0                           0.000000  ...   \n",
       "1                0                           0.000000  ...   \n",
       "2                0                           0.000000  ...   \n",
       "3                0                           0.333333  ...   \n",
       "4                0                          30.500000  ...   \n",
       "\n",
       "  Avg_Shop_the_look_sess_With_DSRoom  AvgPDPInfoInteractionPerSession  \\\n",
       "0                                NaN                              NaN   \n",
       "1                                NaN                              NaN   \n",
       "2                                NaN                              0.4   \n",
       "3                                NaN                              NaN   \n",
       "4                                NaN                              NaN   \n",
       "\n",
       "  Avg_RoomPlanner_session  Max_Design_services_ATC_perSession  \\\n",
       "0                0.000000                                 4.0   \n",
       "1                0.037361                                 6.0   \n",
       "2                0.000193                                 7.0   \n",
       "3                0.133602                                 2.0   \n",
       "4                0.000000                                 NaN   \n",
       "\n",
       "   Avg_STLPage_per_Session  AvgPDPInteraction  AvgDSRelevantClasses  \\\n",
       "0                      0.0                NaN                   0.0   \n",
       "1                      0.0                NaN                   NaN   \n",
       "2                      0.0                NaN                   1.0   \n",
       "3                      0.0                NaN                   4.0   \n",
       "4                      0.0                NaN                   0.0   \n",
       "\n",
       "   AvgDSRelevantProducts  avg_category_pages_per_session  DS_customer_flag  \n",
       "0                    NaN                        0.129386                 0  \n",
       "1                    1.0                        0.166618                 0  \n",
       "2                    1.0                        0.296956                 0  \n",
       "3                    4.0                        0.126711                 0  \n",
       "4                    1.0                        0.420142                 0  \n",
       "\n",
       "[5 rows x 24 columns]"
      ]
     },
     "execution_count": 3,
     "metadata": {},
     "output_type": "execute_result"
    }
   ],
   "source": [
    "df.head()"
   ]
  },
  {
   "cell_type": "code",
   "execution_count": 4,
   "id": "6015ed9e-573d-4dd7-8156-ede1476e34d2",
   "metadata": {
    "execution": {
     "iopub.execute_input": "2022-06-15T23:58:18.174731Z",
     "iopub.status.busy": "2022-06-15T23:58:18.174493Z",
     "iopub.status.idle": "2022-06-15T23:58:18.432193Z",
     "shell.execute_reply": "2022-06-15T23:58:18.431040Z",
     "shell.execute_reply.started": "2022-06-15T23:58:18.174704Z"
    },
    "tags": []
   },
   "outputs": [
    {
     "name": "stdout",
     "output_type": "stream",
     "text": [
      "<class 'pandas.core.frame.DataFrame'>\n",
      "RangeIndex: 1166192 entries, 0 to 1166191\n",
      "Data columns (total 24 columns):\n",
      " #   Column                              Non-Null Count    Dtype  \n",
      "---  ------                              --------------    -----  \n",
      " 0   customer_id                         1166192 non-null  int64  \n",
      " 1   num_items_list                      1166192 non-null  int64  \n",
      " 2   num_lists                           1066734 non-null  float64\n",
      " 3   avg_session_length                  1166192 non-null  float64\n",
      " 4   InMarketscore                       202981 non-null   float64\n",
      " 5   geos                                566869 non-null   object \n",
      " 6   Avg_brand_pages_viewed              22765 non-null    float64\n",
      " 7   Avg_design_classes_per_session      156731 non-null   float64\n",
      " 8   HolidayShoppers                     1166192 non-null  int64  \n",
      " 9   Avg_SuperBrowse_Pages_per_session   1087733 non-null  float64\n",
      " 10  Visitor_type                        1166192 non-null  object \n",
      " 11  life_style_brand_user               202344 non-null   float64\n",
      " 12  gender                              1032079 non-null  object \n",
      " 13  AvgDailySalesPagesViewedPerSession  1056741 non-null  float64\n",
      " 14  Avg_Shop_the_look_sess_With_DSRoom  259586 non-null   float64\n",
      " 15  AvgPDPInfoInteractionPerSession     634175 non-null   float64\n",
      " 16  Avg_RoomPlanner_session             1166192 non-null  float64\n",
      " 17  Max_Design_services_ATC_perSession  1068941 non-null  float64\n",
      " 18  Avg_STLPage_per_Session             1166192 non-null  float64\n",
      " 19  AvgPDPInteraction                   503882 non-null   float64\n",
      " 20  AvgDSRelevantClasses                992708 non-null   float64\n",
      " 21  AvgDSRelevantProducts               776956 non-null   float64\n",
      " 22  avg_category_pages_per_session      1166192 non-null  float64\n",
      " 23  DS_customer_flag                    1166192 non-null  int64  \n",
      "dtypes: float64(17), int64(4), object(3)\n",
      "memory usage: 213.5+ MB\n"
     ]
    }
   ],
   "source": [
    "df.info()"
   ]
  },
  {
   "cell_type": "code",
   "execution_count": 5,
   "id": "f06affbe-254c-4afc-9c54-e7e58533e850",
   "metadata": {
    "execution": {
     "iopub.execute_input": "2022-06-15T23:58:18.434739Z",
     "iopub.status.busy": "2022-06-15T23:58:18.433838Z",
     "iopub.status.idle": "2022-06-15T23:58:18.662586Z",
     "shell.execute_reply": "2022-06-15T23:58:18.661646Z",
     "shell.execute_reply.started": "2022-06-15T23:58:18.434689Z"
    },
    "tags": []
   },
   "outputs": [
    {
     "data": {
      "text/plain": [
       "customer_id                                 0\n",
       "num_items_list                              0\n",
       "num_lists                               99458\n",
       "avg_session_length                          0\n",
       "InMarketscore                          963211\n",
       "geos                                   599323\n",
       "Avg_brand_pages_viewed                1143427\n",
       "Avg_design_classes_per_session        1009461\n",
       "HolidayShoppers                             0\n",
       "Avg_SuperBrowse_Pages_per_session       78459\n",
       "Visitor_type                                0\n",
       "life_style_brand_user                  963848\n",
       "gender                                 134113\n",
       "AvgDailySalesPagesViewedPerSession     109451\n",
       "Avg_Shop_the_look_sess_With_DSRoom     906606\n",
       "AvgPDPInfoInteractionPerSession        532017\n",
       "Avg_RoomPlanner_session                     0\n",
       "Max_Design_services_ATC_perSession      97251\n",
       "Avg_STLPage_per_Session                     0\n",
       "AvgPDPInteraction                      662310\n",
       "AvgDSRelevantClasses                   173484\n",
       "AvgDSRelevantProducts                  389236\n",
       "avg_category_pages_per_session              0\n",
       "DS_customer_flag                            0\n",
       "dtype: int64"
      ]
     },
     "execution_count": 5,
     "metadata": {},
     "output_type": "execute_result"
    }
   ],
   "source": [
    "df.isnull().sum() #checking for total null values"
   ]
  },
  {
   "cell_type": "markdown",
   "id": "f83d3a2d-aa2c-46fc-bf1d-9792a177b098",
   "metadata": {
    "tags": []
   },
   "source": [
    "## Part 2. Data Cleaning"
   ]
  },
  {
   "cell_type": "code",
   "execution_count": 6,
   "id": "26556896-b876-494a-929e-8ae57e882fe7",
   "metadata": {
    "execution": {
     "iopub.execute_input": "2022-06-15T23:58:18.664289Z",
     "iopub.status.busy": "2022-06-15T23:58:18.664004Z",
     "iopub.status.idle": "2022-06-15T23:58:18.980625Z",
     "shell.execute_reply": "2022-06-15T23:58:18.979493Z",
     "shell.execute_reply.started": "2022-06-15T23:58:18.664250Z"
    },
    "tags": []
   },
   "outputs": [
    {
     "name": "stdout",
     "output_type": "stream",
     "text": [
      "Female     901466\n",
      "Unknown    134113\n",
      "Male       130613\n",
      "Name: gender, dtype: int64\n",
      "Unknown     599323\n",
      "Urban       263946\n",
      "Suburban    166127\n",
      "Rural       136796\n",
      "Name: geos, dtype: int64\n"
     ]
    }
   ],
   "source": [
    "# Fill in NA - replace NA of gender and geos to be unknown\n",
    "df[\"gender\"] = df[\"gender\"].replace(np.nan,'Unknown')\n",
    "print(df.gender.value_counts())\n",
    "\n",
    "df[\"geos\"] = df[\"geos\"].replace(np.nan,'Unknown')\n",
    "print(df.geos.value_counts())"
   ]
  },
  {
   "cell_type": "code",
   "execution_count": 7,
   "id": "b9faa013-943f-45b3-ae28-e6fb0f6b1174",
   "metadata": {
    "execution": {
     "iopub.execute_input": "2022-06-15T23:58:18.982506Z",
     "iopub.status.busy": "2022-06-15T23:58:18.982257Z",
     "iopub.status.idle": "2022-06-15T23:58:18.987435Z",
     "shell.execute_reply": "2022-06-15T23:58:18.986618Z",
     "shell.execute_reply.started": "2022-06-15T23:58:18.982466Z"
    },
    "tags": []
   },
   "outputs": [],
   "source": [
    "numerical = [\n",
    "  'num_items_list', 'num_lists', 'avg_session_length', 'InMarketscore', 'Avg_brand_pages_viewed', 'Avg_design_classes_per_session', 'Avg_SuperBrowse_Pages_per_session'\n",
    "    ,'AvgDailySalesPagesViewedPerSession','Avg_Shop_the_look_sess_With_DSRoom','AvgPDPInfoInteractionPerSession','Avg_RoomPlanner_session','Max_Design_services_ATC_perSession',\n",
    "    'Avg_STLPage_per_Session','AvgPDPInteraction','AvgDSRelevantClasses','AvgDSRelevantProducts','avg_category_pages_per_session'\n",
    "]\n",
    "categorical = [\n",
    "  'geos', 'HolidayShoppers', 'Visitor_type', 'life_style_brand_user', 'gender'\n",
    "]"
   ]
  },
  {
   "cell_type": "code",
   "execution_count": 9,
   "id": "d37e9585-da7d-48a3-9a9d-81779c6bb833",
   "metadata": {
    "execution": {
     "iopub.execute_input": "2022-06-15T23:58:18.996338Z",
     "iopub.status.busy": "2022-06-15T23:58:18.996032Z",
     "iopub.status.idle": "2022-06-15T23:58:19.240466Z",
     "shell.execute_reply": "2022-06-15T23:58:19.239426Z",
     "shell.execute_reply.started": "2022-06-15T23:58:18.996299Z"
    }
   },
   "outputs": [
    {
     "name": "stdout",
     "output_type": "stream",
     "text": [
      "<class 'pandas.core.frame.DataFrame'>\n",
      "RangeIndex: 1166192 entries, 0 to 1166191\n",
      "Data columns (total 24 columns):\n",
      " #   Column                              Non-Null Count    Dtype  \n",
      "---  ------                              --------------    -----  \n",
      " 0   customer_id                         1166192 non-null  int64  \n",
      " 1   num_items_list                      1166192 non-null  int64  \n",
      " 2   num_lists                           1066734 non-null  float64\n",
      " 3   avg_session_length                  1166192 non-null  float64\n",
      " 4   InMarketscore                       202981 non-null   float64\n",
      " 5   geos                                1166192 non-null  object \n",
      " 6   Avg_brand_pages_viewed              22765 non-null    float64\n",
      " 7   Avg_design_classes_per_session      156731 non-null   float64\n",
      " 8   HolidayShoppers                     1166192 non-null  int64  \n",
      " 9   Avg_SuperBrowse_Pages_per_session   1087733 non-null  float64\n",
      " 10  Visitor_type                        1166192 non-null  object \n",
      " 11  life_style_brand_user               202344 non-null   float64\n",
      " 12  gender                              1166192 non-null  object \n",
      " 13  AvgDailySalesPagesViewedPerSession  1056741 non-null  float64\n",
      " 14  Avg_Shop_the_look_sess_With_DSRoom  259586 non-null   float64\n",
      " 15  AvgPDPInfoInteractionPerSession     634175 non-null   float64\n",
      " 16  Avg_RoomPlanner_session             1166192 non-null  float64\n",
      " 17  Max_Design_services_ATC_perSession  1068941 non-null  float64\n",
      " 18  Avg_STLPage_per_Session             1166192 non-null  float64\n",
      " 19  AvgPDPInteraction                   503882 non-null   float64\n",
      " 20  AvgDSRelevantClasses                992708 non-null   float64\n",
      " 21  AvgDSRelevantProducts               776956 non-null   float64\n",
      " 22  avg_category_pages_per_session      1166192 non-null  float64\n",
      " 23  DS_customer_flag                    1166192 non-null  int64  \n",
      "dtypes: float64(17), int64(4), object(3)\n",
      "memory usage: 213.5+ MB\n"
     ]
    }
   ],
   "source": [
    "df.info()"
   ]
  },
  {
   "cell_type": "code",
   "execution_count": 10,
   "id": "4b563af1-80a7-4e09-8d40-c89a8ce107b3",
   "metadata": {
    "execution": {
     "iopub.execute_input": "2022-06-15T23:58:19.244052Z",
     "iopub.status.busy": "2022-06-15T23:58:19.243500Z",
     "iopub.status.idle": "2022-06-15T23:58:19.596762Z",
     "shell.execute_reply": "2022-06-15T23:58:19.595976Z",
     "shell.execute_reply.started": "2022-06-15T23:58:19.244018Z"
    },
    "tags": []
   },
   "outputs": [],
   "source": [
    "# replace NA with zero for all the numerical variables and lifestylebranduser\n",
    "df[numerical] = df[numerical].fillna(0)\n",
    "df['life_style_brand_user']=df['life_style_brand_user'].fillna(0)\n",
    "#df['life_style_brand_user'] = df['life_style_brand_user'].astype('object')"
   ]
  },
  {
   "cell_type": "code",
   "execution_count": 11,
   "id": "9bf0abbc-957d-4617-a764-aa7b40930c09",
   "metadata": {
    "execution": {
     "iopub.execute_input": "2022-06-15T23:58:19.598807Z",
     "iopub.status.busy": "2022-06-15T23:58:19.598066Z",
     "iopub.status.idle": "2022-06-15T23:58:19.818324Z",
     "shell.execute_reply": "2022-06-15T23:58:19.817395Z",
     "shell.execute_reply.started": "2022-06-15T23:58:19.598761Z"
    },
    "tags": []
   },
   "outputs": [
    {
     "data": {
      "text/plain": [
       "customer_id                           0\n",
       "num_items_list                        0\n",
       "num_lists                             0\n",
       "avg_session_length                    0\n",
       "InMarketscore                         0\n",
       "geos                                  0\n",
       "Avg_brand_pages_viewed                0\n",
       "Avg_design_classes_per_session        0\n",
       "HolidayShoppers                       0\n",
       "Avg_SuperBrowse_Pages_per_session     0\n",
       "Visitor_type                          0\n",
       "life_style_brand_user                 0\n",
       "gender                                0\n",
       "AvgDailySalesPagesViewedPerSession    0\n",
       "Avg_Shop_the_look_sess_With_DSRoom    0\n",
       "AvgPDPInfoInteractionPerSession       0\n",
       "Avg_RoomPlanner_session               0\n",
       "Max_Design_services_ATC_perSession    0\n",
       "Avg_STLPage_per_Session               0\n",
       "AvgPDPInteraction                     0\n",
       "AvgDSRelevantClasses                  0\n",
       "AvgDSRelevantProducts                 0\n",
       "avg_category_pages_per_session        0\n",
       "DS_customer_flag                      0\n",
       "dtype: int64"
      ]
     },
     "execution_count": 11,
     "metadata": {},
     "output_type": "execute_result"
    }
   ],
   "source": [
    "df.isnull().sum() #checking for total null values"
   ]
  },
  {
   "cell_type": "markdown",
   "id": "377045d6-25a8-4b99-b3fe-3dda0c9b25c2",
   "metadata": {
    "tags": []
   },
   "source": [
    "## Part 3. Data Visualization"
   ]
  },
  {
   "cell_type": "code",
   "execution_count": 14,
   "id": "246c0d14-e6ce-45af-bc42-188c041846de",
   "metadata": {
    "execution": {
     "iopub.execute_input": "2022-06-10T23:48:11.567747Z",
     "iopub.status.busy": "2022-06-10T23:48:11.567543Z",
     "iopub.status.idle": "2022-06-10T23:48:11.757097Z",
     "shell.execute_reply": "2022-06-10T23:48:11.756383Z",
     "shell.execute_reply.started": "2022-06-10T23:48:11.567713Z"
    }
   },
   "outputs": [
    {
     "data": {
      "text/plain": [
       "<AxesSubplot:>"
      ]
     },
     "execution_count": 14,
     "metadata": {},
     "output_type": "execute_result"
    },
    {
     "data": {
      "image/png": "[encoded data removed]",
      "text/plain": [
       "<Figure size 432x288 with 1 Axes>"
      ]
     },
     "metadata": {
      "needs_background": "light"
     },
     "output_type": "display_data"
    }
   ],
   "source": [
    "df.DS_customer_flag.value_counts().plot(kind='bar') # distribution of Y variable"
   ]
  },
  {
   "cell_type": "code",
   "execution_count": 15,
   "id": "b6d3635f-abbc-4d50-82ac-0009759c7083",
   "metadata": {
    "execution": {
     "iopub.execute_input": "2022-06-10T23:48:11.758733Z",
     "iopub.status.busy": "2022-06-10T23:48:11.758461Z",
     "iopub.status.idle": "2022-06-10T23:48:15.123651Z",
     "shell.execute_reply": "2022-06-10T23:48:15.122924Z",
     "shell.execute_reply.started": "2022-06-10T23:48:11.758706Z"
    }
   },
   "outputs": [
    {
     "data": {
      "text/plain": [
       "array([[<AxesSubplot:title={'center':'num_items_list'}>,\n",
       "        <AxesSubplot:title={'center':'num_lists'}>,\n",
       "        <AxesSubplot:title={'center':'avg_session_length'}>],\n",
       "       [<AxesSubplot:title={'center':'InMarketscore'}>,\n",
       "        <AxesSubplot:title={'center':'Avg_brand_pages_viewed'}>,\n",
       "        <AxesSubplot:title={'center':'Avg_design_classes_per_session'}>],\n",
       "       [<AxesSubplot:title={'center':'Avg_SuperBrowse_Pages_per_session'}>,\n",
       "        <AxesSubplot:title={'center':'AvgDailySalesPagesViewedPerSession'}>,\n",
       "        <AxesSubplot:title={'center':'Avg_Shop_the_look_sess_With_DSRoom'}>],\n",
       "       [<AxesSubplot:title={'center':'AvgPDPInfoInteractionPerSession'}>,\n",
       "        <AxesSubplot:title={'center':'Avg_RoomPlanner_session'}>,\n",
       "        <AxesSubplot:title={'center':'Max_Design_services_ATC_perSession'}>],\n",
       "       [<AxesSubplot:title={'center':'Avg_STLPage_per_Session'}>,\n",
       "        <AxesSubplot:title={'center':'AvgPDPInteraction'}>,\n",
       "        <AxesSubplot:title={'center':'AvgDSRelevantClasses'}>],\n",
       "       [<AxesSubplot:title={'center':'AvgDSRelevantProducts'}>,\n",
       "        <AxesSubplot:title={'center':'avg_category_pages_per_session'}>,\n",
       "        <AxesSubplot:>]], dtype=object)"
      ]
     },
     "execution_count": 15,
     "metadata": {},
     "output_type": "execute_result"
    },
    {
     "data": {
      "image/png": "[encoded data removed]",
      "text/plain": [
       "<Figure size 2160x1440 with 18 Axes>"
      ]
     },
     "metadata": {
      "needs_background": "light"
     },
     "output_type": "display_data"
    }
   ],
   "source": [
    "df[numerical].hist(bins=15, figsize=(30, 20), layout=(6, 3))"
   ]
  },
  {
   "cell_type": "code",
   "execution_count": 16,
   "id": "bc863365-e9c1-419c-93f4-6f448808779a",
   "metadata": {
    "execution": {
     "iopub.execute_input": "2022-06-10T23:48:15.126909Z",
     "iopub.status.busy": "2022-06-10T23:48:15.126645Z",
     "iopub.status.idle": "2022-06-10T23:48:17.798130Z",
     "shell.execute_reply": "2022-06-10T23:48:17.797301Z",
     "shell.execute_reply.started": "2022-06-10T23:48:15.126876Z"
    }
   },
   "outputs": [
    {
     "name": "stderr",
     "output_type": "stream",
     "text": [
      "/opt/conda/lib/python3.7/site-packages/seaborn/_decorators.py:43: FutureWarning: Pass the following variable as a keyword arg: x. From version 0.12, the only valid positional argument will be `data`, and passing other arguments without an explicit keyword will result in an error or misinterpretation.\n",
      "  FutureWarning\n",
      "/opt/conda/lib/python3.7/site-packages/seaborn/_decorators.py:43: FutureWarning: Pass the following variable as a keyword arg: x. From version 0.12, the only valid positional argument will be `data`, and passing other arguments without an explicit keyword will result in an error or misinterpretation.\n",
      "  FutureWarning\n",
      "/opt/conda/lib/python3.7/site-packages/seaborn/_decorators.py:43: FutureWarning: Pass the following variable as a keyword arg: x. From version 0.12, the only valid positional argument will be `data`, and passing other arguments without an explicit keyword will result in an error or misinterpretation.\n",
      "  FutureWarning\n",
      "/opt/conda/lib/python3.7/site-packages/seaborn/_decorators.py:43: FutureWarning: Pass the following variable as a keyword arg: x. From version 0.12, the only valid positional argument will be `data`, and passing other arguments without an explicit keyword will result in an error or misinterpretation.\n",
      "  FutureWarning\n",
      "/opt/conda/lib/python3.7/site-packages/seaborn/_decorators.py:43: FutureWarning: Pass the following variable as a keyword arg: x. From version 0.12, the only valid positional argument will be `data`, and passing other arguments without an explicit keyword will result in an error or misinterpretation.\n",
      "  FutureWarning\n"
     ]
    },
    {
     "data": {
      "image/png": "[encoded data removed]",
      "text/plain": [
       "<Figure size 2160x720 with 5 Axes>"
      ]
     },
     "metadata": {
      "needs_background": "light"
     },
     "output_type": "display_data"
    }
   ],
   "source": [
    "fig, ax = plt.subplots(1, 5, figsize=(30, 10))\n",
    "for variable, subplot in zip(categorical, ax.flatten()):\n",
    "    sns.countplot(df[variable], ax=subplot)\n",
    "    for label in subplot.get_xticklabels():\n",
    "        label.set_rotation(90)"
   ]
  },
  {
   "cell_type": "markdown",
   "id": "2b0cd713-b31b-433c-b4e5-33b6e6775896",
   "metadata": {
    "tags": []
   },
   "source": [
    "## Part 4. Feature Engineering"
   ]
  },
  {
   "cell_type": "code",
   "execution_count": 12,
   "id": "82789873-6d11-4ebe-9fe3-28f6630ed6f6",
   "metadata": {
    "execution": {
     "iopub.execute_input": "2022-06-15T23:58:19.820823Z",
     "iopub.status.busy": "2022-06-15T23:58:19.820365Z",
     "iopub.status.idle": "2022-06-15T23:58:20.098097Z",
     "shell.execute_reply": "2022-06-15T23:58:20.097349Z",
     "shell.execute_reply.started": "2022-06-15T23:58:19.820750Z"
    },
    "tags": []
   },
   "outputs": [
    {
     "data": {
      "text/html": [
       "<div>\n",
       "<style scoped>\n",
       "    .dataframe tbody tr th:only-of-type {\n",
       "        vertical-align: middle;\n",
       "    }\n",
       "\n",
       "    .dataframe tbody tr th {\n",
       "        vertical-align: top;\n",
       "    }\n",
       "\n",
       "    .dataframe thead th {\n",
       "        text-align: right;\n",
       "    }\n",
       "</style>\n",
       "<table border=\"1\" class=\"dataframe\">\n",
       "  <thead>\n",
       "    <tr style=\"text-align: right;\">\n",
       "      <th></th>\n",
       "      <th>num_items_list</th>\n",
       "      <th>num_lists</th>\n",
       "      <th>avg_session_length</th>\n",
       "      <th>InMarketscore</th>\n",
       "      <th>Avg_brand_pages_viewed</th>\n",
       "      <th>Avg_design_classes_per_session</th>\n",
       "      <th>Avg_SuperBrowse_Pages_per_session</th>\n",
       "      <th>AvgDailySalesPagesViewedPerSession</th>\n",
       "      <th>Avg_Shop_the_look_sess_With_DSRoom</th>\n",
       "      <th>AvgPDPInfoInteractionPerSession</th>\n",
       "      <th>...</th>\n",
       "      <th>Avg_STLPage_per_Session</th>\n",
       "      <th>AvgPDPInteraction</th>\n",
       "      <th>AvgDSRelevantClasses</th>\n",
       "      <th>AvgDSRelevantProducts</th>\n",
       "      <th>avg_category_pages_per_session</th>\n",
       "      <th>geos</th>\n",
       "      <th>HolidayShoppers</th>\n",
       "      <th>Visitor_type</th>\n",
       "      <th>life_style_brand_user</th>\n",
       "      <th>gender</th>\n",
       "    </tr>\n",
       "  </thead>\n",
       "  <tbody>\n",
       "    <tr>\n",
       "      <th>0</th>\n",
       "      <td>1</td>\n",
       "      <td>0.0</td>\n",
       "      <td>687.680478</td>\n",
       "      <td>0.0</td>\n",
       "      <td>0.0</td>\n",
       "      <td>0.0</td>\n",
       "      <td>0.000000</td>\n",
       "      <td>0.0</td>\n",
       "      <td>0.0</td>\n",
       "      <td>0.0</td>\n",
       "      <td>...</td>\n",
       "      <td>0.0</td>\n",
       "      <td>0.0</td>\n",
       "      <td>0.0</td>\n",
       "      <td>0.0</td>\n",
       "      <td>0.129386</td>\n",
       "      <td>Rural</td>\n",
       "      <td>0</td>\n",
       "      <td>Active</td>\n",
       "      <td>0.0</td>\n",
       "      <td>Female</td>\n",
       "    </tr>\n",
       "    <tr>\n",
       "      <th>1</th>\n",
       "      <td>1</td>\n",
       "      <td>2.0</td>\n",
       "      <td>1066.967614</td>\n",
       "      <td>0.0</td>\n",
       "      <td>0.0</td>\n",
       "      <td>0.0</td>\n",
       "      <td>0.000000</td>\n",
       "      <td>0.0</td>\n",
       "      <td>0.0</td>\n",
       "      <td>0.0</td>\n",
       "      <td>...</td>\n",
       "      <td>0.0</td>\n",
       "      <td>0.0</td>\n",
       "      <td>0.0</td>\n",
       "      <td>1.0</td>\n",
       "      <td>0.166618</td>\n",
       "      <td>Rural</td>\n",
       "      <td>0</td>\n",
       "      <td>Active</td>\n",
       "      <td>0.0</td>\n",
       "      <td>Female</td>\n",
       "    </tr>\n",
       "    <tr>\n",
       "      <th>2</th>\n",
       "      <td>1</td>\n",
       "      <td>0.0</td>\n",
       "      <td>2097.104262</td>\n",
       "      <td>0.0</td>\n",
       "      <td>0.0</td>\n",
       "      <td>0.0</td>\n",
       "      <td>0.000000</td>\n",
       "      <td>0.0</td>\n",
       "      <td>0.0</td>\n",
       "      <td>0.4</td>\n",
       "      <td>...</td>\n",
       "      <td>0.0</td>\n",
       "      <td>0.0</td>\n",
       "      <td>1.0</td>\n",
       "      <td>1.0</td>\n",
       "      <td>0.296956</td>\n",
       "      <td>Unknown</td>\n",
       "      <td>0</td>\n",
       "      <td>Acquired</td>\n",
       "      <td>1.0</td>\n",
       "      <td>Female</td>\n",
       "    </tr>\n",
       "    <tr>\n",
       "      <th>3</th>\n",
       "      <td>2</td>\n",
       "      <td>0.0</td>\n",
       "      <td>64.789735</td>\n",
       "      <td>0.0</td>\n",
       "      <td>0.0</td>\n",
       "      <td>0.0</td>\n",
       "      <td>0.333333</td>\n",
       "      <td>0.0</td>\n",
       "      <td>0.0</td>\n",
       "      <td>0.0</td>\n",
       "      <td>...</td>\n",
       "      <td>0.0</td>\n",
       "      <td>0.0</td>\n",
       "      <td>4.0</td>\n",
       "      <td>4.0</td>\n",
       "      <td>0.126711</td>\n",
       "      <td>Unknown</td>\n",
       "      <td>0</td>\n",
       "      <td>New</td>\n",
       "      <td>0.0</td>\n",
       "      <td>Unknown</td>\n",
       "    </tr>\n",
       "    <tr>\n",
       "      <th>4</th>\n",
       "      <td>0</td>\n",
       "      <td>2.0</td>\n",
       "      <td>853.492792</td>\n",
       "      <td>0.0</td>\n",
       "      <td>0.0</td>\n",
       "      <td>0.0</td>\n",
       "      <td>30.500000</td>\n",
       "      <td>0.0</td>\n",
       "      <td>0.0</td>\n",
       "      <td>0.0</td>\n",
       "      <td>...</td>\n",
       "      <td>0.0</td>\n",
       "      <td>0.0</td>\n",
       "      <td>0.0</td>\n",
       "      <td>1.0</td>\n",
       "      <td>0.420142</td>\n",
       "      <td>Unknown</td>\n",
       "      <td>0</td>\n",
       "      <td>Returning</td>\n",
       "      <td>0.0</td>\n",
       "      <td>Female</td>\n",
       "    </tr>\n",
       "  </tbody>\n",
       "</table>\n",
       "<p>5 rows × 22 columns</p>\n",
       "</div>"
      ],
      "text/plain": [
       "   num_items_list  num_lists  avg_session_length  InMarketscore  \\\n",
       "0               1        0.0          687.680478            0.0   \n",
       "1               1        2.0         1066.967614            0.0   \n",
       "2               1        0.0         2097.104262            0.0   \n",
       "3               2        0.0           64.789735            0.0   \n",
       "4               0        2.0          853.492792            0.0   \n",
       "\n",
       "   Avg_brand_pages_viewed  Avg_design_classes_per_session  \\\n",
       "0                     0.0                             0.0   \n",
       "1                     0.0                             0.0   \n",
       "2                     0.0                             0.0   \n",
       "3                     0.0                             0.0   \n",
       "4                     0.0                             0.0   \n",
       "\n",
       "   Avg_SuperBrowse_Pages_per_session  AvgDailySalesPagesViewedPerSession  \\\n",
       "0                           0.000000                                 0.0   \n",
       "1                           0.000000                                 0.0   \n",
       "2                           0.000000                                 0.0   \n",
       "3                           0.333333                                 0.0   \n",
       "4                          30.500000                                 0.0   \n",
       "\n",
       "   Avg_Shop_the_look_sess_With_DSRoom  AvgPDPInfoInteractionPerSession  ...  \\\n",
       "0                                 0.0                              0.0  ...   \n",
       "1                                 0.0                              0.0  ...   \n",
       "2                                 0.0                              0.4  ...   \n",
       "3                                 0.0                              0.0  ...   \n",
       "4                                 0.0                              0.0  ...   \n",
       "\n",
       "   Avg_STLPage_per_Session  AvgPDPInteraction  AvgDSRelevantClasses  \\\n",
       "0                      0.0                0.0                   0.0   \n",
       "1                      0.0                0.0                   0.0   \n",
       "2                      0.0                0.0                   1.0   \n",
       "3                      0.0                0.0                   4.0   \n",
       "4                      0.0                0.0                   0.0   \n",
       "\n",
       "   AvgDSRelevantProducts  avg_category_pages_per_session     geos  \\\n",
       "0                    0.0                        0.129386    Rural   \n",
       "1                    1.0                        0.166618    Rural   \n",
       "2                    1.0                        0.296956  Unknown   \n",
       "3                    4.0                        0.126711  Unknown   \n",
       "4                    1.0                        0.420142  Unknown   \n",
       "\n",
       "   HolidayShoppers Visitor_type  life_style_brand_user   gender  \n",
       "0                0       Active                    0.0   Female  \n",
       "1                0       Active                    0.0   Female  \n",
       "2                0     Acquired                    1.0   Female  \n",
       "3                0          New                    0.0  Unknown  \n",
       "4                0    Returning                    0.0   Female  \n",
       "\n",
       "[5 rows x 22 columns]"
      ]
     },
     "execution_count": 12,
     "metadata": {},
     "output_type": "execute_result"
    }
   ],
   "source": [
    "X = pd.concat([df[numerical],df[categorical]],axis=1)\n",
    "X.head()"
   ]
  },
  {
   "cell_type": "code",
   "execution_count": 13,
   "id": "6396f41e-66ff-49c7-978a-f80f814dbee5",
   "metadata": {
    "execution": {
     "iopub.execute_input": "2022-06-15T23:58:20.099425Z",
     "iopub.status.busy": "2022-06-15T23:58:20.099204Z",
     "iopub.status.idle": "2022-06-15T23:58:20.346021Z",
     "shell.execute_reply": "2022-06-15T23:58:20.345064Z",
     "shell.execute_reply.started": "2022-06-15T23:58:20.099399Z"
    }
   },
   "outputs": [
    {
     "name": "stdout",
     "output_type": "stream",
     "text": [
      "<class 'pandas.core.frame.DataFrame'>\n",
      "RangeIndex: 1166192 entries, 0 to 1166191\n",
      "Data columns (total 22 columns):\n",
      " #   Column                              Non-Null Count    Dtype  \n",
      "---  ------                              --------------    -----  \n",
      " 0   num_items_list                      1166192 non-null  int64  \n",
      " 1   num_lists                           1166192 non-null  float64\n",
      " 2   avg_session_length                  1166192 non-null  float64\n",
      " 3   InMarketscore                       1166192 non-null  float64\n",
      " 4   Avg_brand_pages_viewed              1166192 non-null  float64\n",
      " 5   Avg_design_classes_per_session      1166192 non-null  float64\n",
      " 6   Avg_SuperBrowse_Pages_per_session   1166192 non-null  float64\n",
      " 7   AvgDailySalesPagesViewedPerSession  1166192 non-null  float64\n",
      " 8   Avg_Shop_the_look_sess_With_DSRoom  1166192 non-null  float64\n",
      " 9   AvgPDPInfoInteractionPerSession     1166192 non-null  float64\n",
      " 10  Avg_RoomPlanner_session             1166192 non-null  float64\n",
      " 11  Max_Design_services_ATC_perSession  1166192 non-null  float64\n",
      " 12  Avg_STLPage_per_Session             1166192 non-null  float64\n",
      " 13  AvgPDPInteraction                   1166192 non-null  float64\n",
      " 14  AvgDSRelevantClasses                1166192 non-null  float64\n",
      " 15  AvgDSRelevantProducts               1166192 non-null  float64\n",
      " 16  avg_category_pages_per_session      1166192 non-null  float64\n",
      " 17  geos                                1166192 non-null  object \n",
      " 18  HolidayShoppers                     1166192 non-null  int64  \n",
      " 19  Visitor_type                        1166192 non-null  object \n",
      " 20  life_style_brand_user               1166192 non-null  float64\n",
      " 21  gender                              1166192 non-null  object \n",
      "dtypes: float64(17), int64(2), object(3)\n",
      "memory usage: 195.7+ MB\n"
     ]
    }
   ],
   "source": [
    "X.info()"
   ]
  },
  {
   "cell_type": "code",
   "execution_count": 14,
   "id": "622961bf-93c1-4a60-a7ad-68a9f96f36de",
   "metadata": {
    "execution": {
     "iopub.execute_input": "2022-06-15T23:58:20.347940Z",
     "iopub.status.busy": "2022-06-15T23:58:20.347661Z",
     "iopub.status.idle": "2022-06-15T23:58:20.354408Z",
     "shell.execute_reply": "2022-06-15T23:58:20.353667Z",
     "shell.execute_reply.started": "2022-06-15T23:58:20.347902Z"
    },
    "tags": []
   },
   "outputs": [
    {
     "data": {
      "text/plain": [
       "0    0\n",
       "1    0\n",
       "2    0\n",
       "3    0\n",
       "4    0\n",
       "Name: DS_customer_flag, dtype: int64"
      ]
     },
     "execution_count": 14,
     "metadata": {},
     "output_type": "execute_result"
    }
   ],
   "source": [
    "y = df['DS_customer_flag']\n",
    "y.head()"
   ]
  },
  {
   "cell_type": "code",
   "execution_count": 15,
   "id": "97261a1b-273b-4724-8747-82d5b9156675",
   "metadata": {
    "execution": {
     "iopub.execute_input": "2022-06-15T23:58:20.355746Z",
     "iopub.status.busy": "2022-06-15T23:58:20.355514Z",
     "iopub.status.idle": "2022-06-15T23:58:21.242101Z",
     "shell.execute_reply": "2022-06-15T23:58:21.241223Z",
     "shell.execute_reply.started": "2022-06-15T23:58:20.355720Z"
    },
    "tags": []
   },
   "outputs": [],
   "source": [
    "# split the data into train and test\n",
    "from sklearn.model_selection import train_test_split\n",
    "X_train, X_test, y_train, y_test = train_test_split(X, y, test_size=0.33, random_state=24)"
   ]
  },
  {
   "cell_type": "code",
   "execution_count": 16,
   "id": "00e3aeb0-5537-4f3b-996c-1b63acb4292b",
   "metadata": {
    "execution": {
     "iopub.execute_input": "2022-06-15T23:58:21.244176Z",
     "iopub.status.busy": "2022-06-15T23:58:21.243453Z",
     "iopub.status.idle": "2022-06-15T23:58:21.249777Z",
     "shell.execute_reply": "2022-06-15T23:58:21.248946Z",
     "shell.execute_reply.started": "2022-06-15T23:58:21.244130Z"
    },
    "tags": []
   },
   "outputs": [
    {
     "name": "stdout",
     "output_type": "stream",
     "text": [
      "X_train shape: (781348, 22)\n"
     ]
    }
   ],
   "source": [
    "print('X_train shape:',X_train.shape)"
   ]
  },
  {
   "cell_type": "code",
   "execution_count": 17,
   "id": "6dfa2f58-0b60-4b75-8706-d3598abd7c24",
   "metadata": {
    "execution": {
     "iopub.execute_input": "2022-06-15T23:58:21.251180Z",
     "iopub.status.busy": "2022-06-15T23:58:21.250968Z",
     "iopub.status.idle": "2022-06-15T23:58:21.256202Z",
     "shell.execute_reply": "2022-06-15T23:58:21.255290Z",
     "shell.execute_reply.started": "2022-06-15T23:58:21.251153Z"
    },
    "tags": []
   },
   "outputs": [],
   "source": [
    "categorical = [\n",
    "  'geos', 'Visitor_type', 'gender'\n",
    "]\n",
    "#'HolidayShoppers' and 'life_style_brand_user' only have 2 unique values, no need to be operated one hot encoding on"
   ]
  },
  {
   "cell_type": "code",
   "execution_count": 18,
   "id": "0a16f4b4-0402-4ea3-979e-8661793d42d0",
   "metadata": {
    "execution": {
     "iopub.execute_input": "2022-06-15T23:58:21.257585Z",
     "iopub.status.busy": "2022-06-15T23:58:21.257383Z",
     "iopub.status.idle": "2022-06-15T23:58:21.281312Z",
     "shell.execute_reply": "2022-06-15T23:58:21.280294Z",
     "shell.execute_reply.started": "2022-06-15T23:58:21.257560Z"
    }
   },
   "outputs": [
    {
     "name": "stdout",
     "output_type": "stream",
     "text": [
      "<class 'pandas.core.frame.DataFrame'>\n",
      "Int64Index: 781348 entries, 1118339 to 242082\n",
      "Data columns (total 2 columns):\n",
      " #   Column                 Non-Null Count   Dtype  \n",
      "---  ------                 --------------   -----  \n",
      " 0   HolidayShoppers        781348 non-null  int64  \n",
      " 1   life_style_brand_user  781348 non-null  float64\n",
      "dtypes: float64(1), int64(1)\n",
      "memory usage: 17.9 MB\n"
     ]
    }
   ],
   "source": [
    "X_train[['HolidayShoppers','life_style_brand_user']].info()"
   ]
  },
  {
   "cell_type": "code",
   "execution_count": 19,
   "id": "d47ae6bf-15f0-4800-b0e1-27a797de19f2",
   "metadata": {
    "execution": {
     "iopub.execute_input": "2022-06-15T23:58:21.283445Z",
     "iopub.status.busy": "2022-06-15T23:58:21.282795Z",
     "iopub.status.idle": "2022-06-15T23:58:22.539054Z",
     "shell.execute_reply": "2022-06-15T23:58:22.538263Z",
     "shell.execute_reply.started": "2022-06-15T23:58:21.283399Z"
    },
    "tags": []
   },
   "outputs": [],
   "source": [
    "# one hot encoding the categorical variables both in train and test based on the train test (to avoid data leakage)\n",
    "from sklearn.preprocessing import OneHotEncoder\n",
    "\n",
    "X_train_categorical=X_train[categorical]\n",
    "X_test_categorical=X_test[categorical]\n",
    "enc = OneHotEncoder(handle_unknown = 'ignore')\n",
    "enc.fit(X_train_categorical)\n",
    "\n",
    "X_train_categorical_ohe = pd.DataFrame(enc.transform(X_train_categorical).toarray(),\n",
    "                                       columns=enc.get_feature_names_out(['geos','Visitor_type','gender']),\n",
    "                                       index=X_train_categorical.index)\n",
    "X_train_ohe = pd.concat([X_train[numerical],X_train_categorical_ohe,X_train[['HolidayShoppers','life_style_brand_user']]],axis=1)\n",
    "\n",
    "X_test_categorical_ohe = pd.DataFrame(enc.transform(X_test_categorical).toarray(),\n",
    "                                      columns=enc.get_feature_names_out(['geos','Visitor_type','gender']),\n",
    "                                      index=X_test_categorical.index)\n",
    "X_test_ohe = pd.concat([X_test[numerical],X_test_categorical_ohe,X_test[['HolidayShoppers','life_style_brand_user']]],axis=1)"
   ]
  },
  {
   "cell_type": "code",
   "execution_count": 20,
   "id": "ec0add9e-807a-4ec9-8747-502bd9070934",
   "metadata": {
    "execution": {
     "iopub.execute_input": "2022-06-15T23:58:22.540461Z",
     "iopub.status.busy": "2022-06-15T23:58:22.540211Z",
     "iopub.status.idle": "2022-06-15T23:58:22.570854Z",
     "shell.execute_reply": "2022-06-15T23:58:22.569884Z",
     "shell.execute_reply.started": "2022-06-15T23:58:22.540433Z"
    }
   },
   "outputs": [
    {
     "data": {
      "text/html": [
       "<div>\n",
       "<style scoped>\n",
       "    .dataframe tbody tr th:only-of-type {\n",
       "        vertical-align: middle;\n",
       "    }\n",
       "\n",
       "    .dataframe tbody tr th {\n",
       "        vertical-align: top;\n",
       "    }\n",
       "\n",
       "    .dataframe thead th {\n",
       "        text-align: right;\n",
       "    }\n",
       "</style>\n",
       "<table border=\"1\" class=\"dataframe\">\n",
       "  <thead>\n",
       "    <tr style=\"text-align: right;\">\n",
       "      <th></th>\n",
       "      <th>num_items_list</th>\n",
       "      <th>num_lists</th>\n",
       "      <th>avg_session_length</th>\n",
       "      <th>InMarketscore</th>\n",
       "      <th>Avg_brand_pages_viewed</th>\n",
       "      <th>Avg_design_classes_per_session</th>\n",
       "      <th>Avg_SuperBrowse_Pages_per_session</th>\n",
       "      <th>AvgDailySalesPagesViewedPerSession</th>\n",
       "      <th>Avg_Shop_the_look_sess_With_DSRoom</th>\n",
       "      <th>AvgPDPInfoInteractionPerSession</th>\n",
       "      <th>...</th>\n",
       "      <th>geos_Urban</th>\n",
       "      <th>Visitor_type_Acquired</th>\n",
       "      <th>Visitor_type_Active</th>\n",
       "      <th>Visitor_type_New</th>\n",
       "      <th>Visitor_type_Returning</th>\n",
       "      <th>gender_Female</th>\n",
       "      <th>gender_Male</th>\n",
       "      <th>gender_Unknown</th>\n",
       "      <th>HolidayShoppers</th>\n",
       "      <th>life_style_brand_user</th>\n",
       "    </tr>\n",
       "  </thead>\n",
       "  <tbody>\n",
       "    <tr>\n",
       "      <th>1118339</th>\n",
       "      <td>3</td>\n",
       "      <td>0.0</td>\n",
       "      <td>458.897659</td>\n",
       "      <td>0.000000</td>\n",
       "      <td>0.0</td>\n",
       "      <td>0.00</td>\n",
       "      <td>4.5</td>\n",
       "      <td>0.0</td>\n",
       "      <td>0.000000</td>\n",
       "      <td>0.0</td>\n",
       "      <td>...</td>\n",
       "      <td>0.0</td>\n",
       "      <td>1.0</td>\n",
       "      <td>0.0</td>\n",
       "      <td>0.0</td>\n",
       "      <td>0.0</td>\n",
       "      <td>1.0</td>\n",
       "      <td>0.0</td>\n",
       "      <td>0.0</td>\n",
       "      <td>0</td>\n",
       "      <td>1.0</td>\n",
       "    </tr>\n",
       "    <tr>\n",
       "      <th>1055958</th>\n",
       "      <td>1</td>\n",
       "      <td>0.0</td>\n",
       "      <td>1312.430056</td>\n",
       "      <td>0.295549</td>\n",
       "      <td>0.0</td>\n",
       "      <td>303643.25</td>\n",
       "      <td>0.0</td>\n",
       "      <td>0.0</td>\n",
       "      <td>0.014103</td>\n",
       "      <td>0.0</td>\n",
       "      <td>...</td>\n",
       "      <td>0.0</td>\n",
       "      <td>0.0</td>\n",
       "      <td>0.0</td>\n",
       "      <td>0.0</td>\n",
       "      <td>1.0</td>\n",
       "      <td>1.0</td>\n",
       "      <td>0.0</td>\n",
       "      <td>0.0</td>\n",
       "      <td>0</td>\n",
       "      <td>0.0</td>\n",
       "    </tr>\n",
       "    <tr>\n",
       "      <th>981102</th>\n",
       "      <td>1</td>\n",
       "      <td>1.0</td>\n",
       "      <td>2786.317351</td>\n",
       "      <td>0.000000</td>\n",
       "      <td>0.0</td>\n",
       "      <td>0.00</td>\n",
       "      <td>0.0</td>\n",
       "      <td>0.0</td>\n",
       "      <td>0.000000</td>\n",
       "      <td>0.0</td>\n",
       "      <td>...</td>\n",
       "      <td>0.0</td>\n",
       "      <td>0.0</td>\n",
       "      <td>0.0</td>\n",
       "      <td>0.0</td>\n",
       "      <td>1.0</td>\n",
       "      <td>1.0</td>\n",
       "      <td>0.0</td>\n",
       "      <td>0.0</td>\n",
       "      <td>0</td>\n",
       "      <td>0.0</td>\n",
       "    </tr>\n",
       "    <tr>\n",
       "      <th>414256</th>\n",
       "      <td>11</td>\n",
       "      <td>4.0</td>\n",
       "      <td>573.095168</td>\n",
       "      <td>0.000000</td>\n",
       "      <td>0.0</td>\n",
       "      <td>0.00</td>\n",
       "      <td>12.0</td>\n",
       "      <td>0.0</td>\n",
       "      <td>0.000000</td>\n",
       "      <td>0.0</td>\n",
       "      <td>...</td>\n",
       "      <td>0.0</td>\n",
       "      <td>0.0</td>\n",
       "      <td>1.0</td>\n",
       "      <td>0.0</td>\n",
       "      <td>0.0</td>\n",
       "      <td>1.0</td>\n",
       "      <td>0.0</td>\n",
       "      <td>0.0</td>\n",
       "      <td>1</td>\n",
       "      <td>0.0</td>\n",
       "    </tr>\n",
       "    <tr>\n",
       "      <th>126433</th>\n",
       "      <td>2</td>\n",
       "      <td>0.0</td>\n",
       "      <td>1228.155150</td>\n",
       "      <td>0.000000</td>\n",
       "      <td>0.0</td>\n",
       "      <td>0.00</td>\n",
       "      <td>0.0</td>\n",
       "      <td>0.0</td>\n",
       "      <td>0.380495</td>\n",
       "      <td>0.0</td>\n",
       "      <td>...</td>\n",
       "      <td>0.0</td>\n",
       "      <td>0.0</td>\n",
       "      <td>0.0</td>\n",
       "      <td>0.0</td>\n",
       "      <td>1.0</td>\n",
       "      <td>1.0</td>\n",
       "      <td>0.0</td>\n",
       "      <td>0.0</td>\n",
       "      <td>0</td>\n",
       "      <td>0.0</td>\n",
       "    </tr>\n",
       "  </tbody>\n",
       "</table>\n",
       "<p>5 rows × 30 columns</p>\n",
       "</div>"
      ],
      "text/plain": [
       "         num_items_list  num_lists  avg_session_length  InMarketscore  \\\n",
       "1118339               3        0.0          458.897659       0.000000   \n",
       "1055958               1        0.0         1312.430056       0.295549   \n",
       "981102                1        1.0         2786.317351       0.000000   \n",
       "414256               11        4.0          573.095168       0.000000   \n",
       "126433                2        0.0         1228.155150       0.000000   \n",
       "\n",
       "         Avg_brand_pages_viewed  Avg_design_classes_per_session  \\\n",
       "1118339                     0.0                            0.00   \n",
       "1055958                     0.0                       303643.25   \n",
       "981102                      0.0                            0.00   \n",
       "414256                      0.0                            0.00   \n",
       "126433                      0.0                            0.00   \n",
       "\n",
       "         Avg_SuperBrowse_Pages_per_session  \\\n",
       "1118339                                4.5   \n",
       "1055958                                0.0   \n",
       "981102                                 0.0   \n",
       "414256                                12.0   \n",
       "126433                                 0.0   \n",
       "\n",
       "         AvgDailySalesPagesViewedPerSession  \\\n",
       "1118339                                 0.0   \n",
       "1055958                                 0.0   \n",
       "981102                                  0.0   \n",
       "414256                                  0.0   \n",
       "126433                                  0.0   \n",
       "\n",
       "         Avg_Shop_the_look_sess_With_DSRoom  AvgPDPInfoInteractionPerSession  \\\n",
       "1118339                            0.000000                              0.0   \n",
       "1055958                            0.014103                              0.0   \n",
       "981102                             0.000000                              0.0   \n",
       "414256                             0.000000                              0.0   \n",
       "126433                             0.380495                              0.0   \n",
       "\n",
       "         ...  geos_Urban  Visitor_type_Acquired  Visitor_type_Active  \\\n",
       "1118339  ...         0.0                    1.0                  0.0   \n",
       "1055958  ...         0.0                    0.0                  0.0   \n",
       "981102   ...         0.0                    0.0                  0.0   \n",
       "414256   ...         0.0                    0.0                  1.0   \n",
       "126433   ...         0.0                    0.0                  0.0   \n",
       "\n",
       "         Visitor_type_New  Visitor_type_Returning  gender_Female  gender_Male  \\\n",
       "1118339               0.0                     0.0            1.0          0.0   \n",
       "1055958               0.0                     1.0            1.0          0.0   \n",
       "981102                0.0                     1.0            1.0          0.0   \n",
       "414256                0.0                     0.0            1.0          0.0   \n",
       "126433                0.0                     1.0            1.0          0.0   \n",
       "\n",
       "         gender_Unknown  HolidayShoppers  life_style_brand_user  \n",
       "1118339             0.0                0                    1.0  \n",
       "1055958             0.0                0                    0.0  \n",
       "981102              0.0                0                    0.0  \n",
       "414256              0.0                1                    0.0  \n",
       "126433              0.0                0                    0.0  \n",
       "\n",
       "[5 rows x 30 columns]"
      ]
     },
     "execution_count": 20,
     "metadata": {},
     "output_type": "execute_result"
    }
   ],
   "source": [
    "X_train_ohe.head()"
   ]
  },
  {
   "cell_type": "code",
   "execution_count": 21,
   "id": "06c03cf2-bcaa-4e4c-96f5-6cdec6a6ffed",
   "metadata": {
    "execution": {
     "iopub.execute_input": "2022-06-15T23:58:22.573212Z",
     "iopub.status.busy": "2022-06-15T23:58:22.572122Z",
     "iopub.status.idle": "2022-06-15T23:58:22.651350Z",
     "shell.execute_reply": "2022-06-15T23:58:22.650314Z",
     "shell.execute_reply.started": "2022-06-15T23:58:22.573162Z"
    }
   },
   "outputs": [
    {
     "name": "stdout",
     "output_type": "stream",
     "text": [
      "<class 'pandas.core.frame.DataFrame'>\n",
      "Int64Index: 781348 entries, 1118339 to 242082\n",
      "Data columns (total 30 columns):\n",
      " #   Column                              Non-Null Count   Dtype  \n",
      "---  ------                              --------------   -----  \n",
      " 0   num_items_list                      781348 non-null  int64  \n",
      " 1   num_lists                           781348 non-null  float64\n",
      " 2   avg_session_length                  781348 non-null  float64\n",
      " 3   InMarketscore                       781348 non-null  float64\n",
      " 4   Avg_brand_pages_viewed              781348 non-null  float64\n",
      " 5   Avg_design_classes_per_session      781348 non-null  float64\n",
      " 6   Avg_SuperBrowse_Pages_per_session   781348 non-null  float64\n",
      " 7   AvgDailySalesPagesViewedPerSession  781348 non-null  float64\n",
      " 8   Avg_Shop_the_look_sess_With_DSRoom  781348 non-null  float64\n",
      " 9   AvgPDPInfoInteractionPerSession     781348 non-null  float64\n",
      " 10  Avg_RoomPlanner_session             781348 non-null  float64\n",
      " 11  Max_Design_services_ATC_perSession  781348 non-null  float64\n",
      " 12  Avg_STLPage_per_Session             781348 non-null  float64\n",
      " 13  AvgPDPInteraction                   781348 non-null  float64\n",
      " 14  AvgDSRelevantClasses                781348 non-null  float64\n",
      " 15  AvgDSRelevantProducts               781348 non-null  float64\n",
      " 16  avg_category_pages_per_session      781348 non-null  float64\n",
      " 17  geos_Rural                          781348 non-null  float64\n",
      " 18  geos_Suburban                       781348 non-null  float64\n",
      " 19  geos_Unknown                        781348 non-null  float64\n",
      " 20  geos_Urban                          781348 non-null  float64\n",
      " 21  Visitor_type_Acquired               781348 non-null  float64\n",
      " 22  Visitor_type_Active                 781348 non-null  float64\n",
      " 23  Visitor_type_New                    781348 non-null  float64\n",
      " 24  Visitor_type_Returning              781348 non-null  float64\n",
      " 25  gender_Female                       781348 non-null  float64\n",
      " 26  gender_Male                         781348 non-null  float64\n",
      " 27  gender_Unknown                      781348 non-null  float64\n",
      " 28  HolidayShoppers                     781348 non-null  int64  \n",
      " 29  life_style_brand_user               781348 non-null  float64\n",
      "dtypes: float64(28), int64(2)\n",
      "memory usage: 184.8 MB\n"
     ]
    }
   ],
   "source": [
    "# categorical = enc.get_feature_names_out(['geos','Visitor_type','gender'])\n",
    "# X_train_ohe[categorical] = X_train_ohe[categorical].astype('object')\n",
    "# X_test_ohe[categorical] = X_test_ohe[categorical].astype('object')\n",
    "X_train_ohe.info()"
   ]
  },
  {
   "cell_type": "code",
   "execution_count": 22,
   "id": "375826c2-d15b-4745-8215-2f8dadbdd987",
   "metadata": {
    "execution": {
     "iopub.execute_input": "2022-06-15T23:58:22.652753Z",
     "iopub.status.busy": "2022-06-15T23:58:22.652485Z",
     "iopub.status.idle": "2022-06-15T23:58:22.657033Z",
     "shell.execute_reply": "2022-06-15T23:58:22.656084Z",
     "shell.execute_reply.started": "2022-06-15T23:58:22.652716Z"
    }
   },
   "outputs": [],
   "source": [
    "# Transform the categorical variables into dummy variables: get_dummies is not good b/c it cannot achieve consistency across training and test data, thus not used here\n",
    "#df_dummies = pd.get_dummies(df[categorical])"
   ]
  },
  {
   "cell_type": "code",
   "execution_count": 23,
   "id": "c343f120-9865-43ea-83ab-3950ce52b136",
   "metadata": {
    "execution": {
     "iopub.execute_input": "2022-06-15T23:58:22.658638Z",
     "iopub.status.busy": "2022-06-15T23:58:22.658433Z",
     "iopub.status.idle": "2022-06-15T23:58:22.662887Z",
     "shell.execute_reply": "2022-06-15T23:58:22.661964Z",
     "shell.execute_reply.started": "2022-06-15T23:58:22.658614Z"
    }
   },
   "outputs": [],
   "source": [
    "# Deal with the imbalanced Y\n",
    "#!pip install imblearn"
   ]
  },
  {
   "cell_type": "code",
   "execution_count": 24,
   "id": "ae26b04b-adfc-4f45-8643-b2b663990b39",
   "metadata": {
    "execution": {
     "iopub.execute_input": "2022-06-15T23:58:22.664128Z",
     "iopub.status.busy": "2022-06-15T23:58:22.663932Z",
     "iopub.status.idle": "2022-06-16T00:02:55.438158Z",
     "shell.execute_reply": "2022-06-16T00:02:55.437412Z",
     "shell.execute_reply.started": "2022-06-15T23:58:22.664105Z"
    },
    "tags": []
   },
   "outputs": [],
   "source": [
    "# Method 1: Up sample minority class - SMOTE\n",
    "from imblearn.over_sampling import SMOTE\n",
    "smote = SMOTE(sampling_strategy='minority')\n",
    "X_train_ohe_sm, y_train_sm = smote.fit_resample(X_train_ohe, y_train)"
   ]
  },
  {
   "cell_type": "code",
   "execution_count": 25,
   "id": "0be36c80-9a5f-40cc-85fd-a241cc2c9547",
   "metadata": {
    "execution": {
     "iopub.execute_input": "2022-06-16T00:02:55.439701Z",
     "iopub.status.busy": "2022-06-16T00:02:55.439467Z",
     "iopub.status.idle": "2022-06-16T00:02:55.446716Z",
     "shell.execute_reply": "2022-06-16T00:02:55.445750Z",
     "shell.execute_reply.started": "2022-06-16T00:02:55.439674Z"
    }
   },
   "outputs": [],
   "source": [
    "# plot 2-dimensional\n",
    "def plot_2d_space(X, y, label='Classes'):   \n",
    "    colors = ['#1F77B4', '#FF7F0E']\n",
    "    markers = ['o', 's']\n",
    "    for l, c, m in zip(np.unique(y), colors, markers):\n",
    "        plt.scatter(\n",
    "            X[y==l].iloc[:,0],\n",
    "            X[y==l].iloc[:,1],\n",
    "            c=c, label=l, marker=m\n",
    "        )\n",
    "    plt.title(label)\n",
    "    plt.legend(loc='upper right')\n",
    "    plt.show()"
   ]
  },
  {
   "cell_type": "code",
   "execution_count": 26,
   "id": "9fc2df71-cd0a-4143-82cc-740ce3eaa2d0",
   "metadata": {
    "execution": {
     "iopub.execute_input": "2022-06-16T00:02:55.448313Z",
     "iopub.status.busy": "2022-06-16T00:02:55.448126Z",
     "iopub.status.idle": "2022-06-16T00:02:55.461176Z",
     "shell.execute_reply": "2022-06-16T00:02:55.460183Z",
     "shell.execute_reply.started": "2022-06-16T00:02:55.448290Z"
    }
   },
   "outputs": [
    {
     "data": {
      "text/plain": [
       "0    669963\n",
       "1    111385\n",
       "Name: DS_customer_flag, dtype: int64"
      ]
     },
     "execution_count": 26,
     "metadata": {},
     "output_type": "execute_result"
    }
   ],
   "source": [
    "y_train.value_counts()"
   ]
  },
  {
   "cell_type": "code",
   "execution_count": 27,
   "id": "96a8b960-6b82-48b5-8a8f-1fc201cc34cf",
   "metadata": {
    "execution": {
     "iopub.execute_input": "2022-06-16T00:02:55.462928Z",
     "iopub.status.busy": "2022-06-16T00:02:55.462621Z",
     "iopub.status.idle": "2022-06-16T00:02:55.478480Z",
     "shell.execute_reply": "2022-06-16T00:02:55.477464Z",
     "shell.execute_reply.started": "2022-06-16T00:02:55.462881Z"
    }
   },
   "outputs": [
    {
     "data": {
      "text/plain": [
       "0    669963\n",
       "1    669963\n",
       "Name: DS_customer_flag, dtype: int64"
      ]
     },
     "execution_count": 27,
     "metadata": {},
     "output_type": "execute_result"
    }
   ],
   "source": [
    "y_train_sm.value_counts()"
   ]
  },
  {
   "cell_type": "code",
   "execution_count": 28,
   "id": "11fb7ad9-ed94-447d-8b1c-72db5a2416b7",
   "metadata": {
    "execution": {
     "iopub.execute_input": "2022-06-16T00:02:55.482348Z",
     "iopub.status.busy": "2022-06-16T00:02:55.482081Z",
     "iopub.status.idle": "2022-06-16T00:02:55.487523Z",
     "shell.execute_reply": "2022-06-16T00:02:55.486782Z",
     "shell.execute_reply.started": "2022-06-16T00:02:55.482310Z"
    },
    "tags": []
   },
   "outputs": [
    {
     "data": {
      "text/plain": [
       "(1339926, 30)"
      ]
     },
     "execution_count": 28,
     "metadata": {},
     "output_type": "execute_result"
    }
   ],
   "source": [
    "X_train_ohe_sm.shape"
   ]
  },
  {
   "cell_type": "code",
   "execution_count": 29,
   "id": "102b250f-ce85-4f9b-bf6d-329bd92b4a55",
   "metadata": {
    "execution": {
     "iopub.execute_input": "2022-06-16T00:02:55.488855Z",
     "iopub.status.busy": "2022-06-16T00:02:55.488660Z",
     "iopub.status.idle": "2022-06-16T00:02:55.493749Z",
     "shell.execute_reply": "2022-06-16T00:02:55.492952Z",
     "shell.execute_reply.started": "2022-06-16T00:02:55.488831Z"
    },
    "tags": []
   },
   "outputs": [],
   "source": [
    "#plot_2d_space(X_train_ohe_sm, y_train_sm, 'SMOTE over-sampling')"
   ]
  },
  {
   "cell_type": "code",
   "execution_count": 30,
   "id": "825cc9c0-eb68-4ff9-a577-a2d3c75d3e34",
   "metadata": {
    "execution": {
     "iopub.execute_input": "2022-06-16T00:02:55.495324Z",
     "iopub.status.busy": "2022-06-16T00:02:55.494736Z",
     "iopub.status.idle": "2022-06-16T00:02:56.152961Z",
     "shell.execute_reply": "2022-06-16T00:02:56.152046Z",
     "shell.execute_reply.started": "2022-06-16T00:02:55.495295Z"
    },
    "tags": []
   },
   "outputs": [
    {
     "name": "stdout",
     "output_type": "stream",
     "text": [
      "Major class:  669963\n",
      "Minor class:  111385\n",
      "New Major class:  111385\n"
     ]
    },
    {
     "data": {
      "text/plain": [
       "<AxesSubplot:title={'center':'DS customer or not'}>"
      ]
     },
     "execution_count": 30,
     "metadata": {},
     "output_type": "execute_result"
    },
    {
     "data": {
      "image/png": "[encoded data removed]",
      "text/plain": [
       "<Figure size 432x288 with 1 Axes>"
      ]
     },
     "metadata": {
      "needs_background": "light"
     },
     "output_type": "display_data"
    }
   ],
   "source": [
    "# Method 2: Down sample majority class - Tomelinks - too long to run, give up\n",
    "# Method 3: Random down sample\n",
    "\n",
    "train_data = pd.concat([X_train_ohe,y_train],axis=1)\n",
    "# Get the number of each class\n",
    "major_class = train_data[train_data[\"DS_customer_flag\"]==0]\n",
    "minor_class = train_data[train_data[\"DS_customer_flag\"]==1]\n",
    "print(\"Major class: \",major_class.shape[0])\n",
    "print(\"Minor class: \",minor_class.shape[0])\n",
    "\n",
    "# Down sample major class\n",
    "down_sample = major_class.sample(n=minor_class.shape[0])\n",
    "print(\"New Major class: \", down_sample.shape[0])\n",
    "\n",
    "# Combine them to get the balanced data\n",
    "balanced_1 = pd.concat([down_sample,minor_class]).reset_index(drop=True)\n",
    "\n",
    "# Check if \"Survived\" is a balanced class now\n",
    "balanced_1.DS_customer_flag.value_counts().plot(kind='bar', title='DS customer or not')"
   ]
  },
  {
   "cell_type": "code",
   "execution_count": 31,
   "id": "6af70620-f79d-479b-98c6-7bf08e50a82c",
   "metadata": {
    "execution": {
     "iopub.execute_input": "2022-06-16T00:02:56.154437Z",
     "iopub.status.busy": "2022-06-16T00:02:56.154178Z",
     "iopub.status.idle": "2022-06-16T00:02:56.179193Z",
     "shell.execute_reply": "2022-06-16T00:02:56.178234Z",
     "shell.execute_reply.started": "2022-06-16T00:02:56.154405Z"
    },
    "tags": []
   },
   "outputs": [],
   "source": [
    "y_train_down = balanced_1['DS_customer_flag']\n",
    "X_train_ohe_down = balanced_1.drop(['DS_customer_flag'], axis=1)"
   ]
  },
  {
   "cell_type": "code",
   "execution_count": 32,
   "id": "51035097-7ce5-4802-8b9d-f016f02663d2",
   "metadata": {
    "execution": {
     "iopub.execute_input": "2022-06-16T00:02:56.181481Z",
     "iopub.status.busy": "2022-06-16T00:02:56.180716Z",
     "iopub.status.idle": "2022-06-16T00:02:56.187720Z",
     "shell.execute_reply": "2022-06-16T00:02:56.186727Z",
     "shell.execute_reply.started": "2022-06-16T00:02:56.181429Z"
    },
    "tags": []
   },
   "outputs": [
    {
     "data": {
      "text/plain": [
       "(222770, 30)"
      ]
     },
     "execution_count": 32,
     "metadata": {},
     "output_type": "execute_result"
    }
   ],
   "source": [
    "X_train_ohe_down.shape"
   ]
  },
  {
   "cell_type": "markdown",
   "id": "d9b314ed-c707-4da5-886b-dd6f09201df4",
   "metadata": {
    "tags": []
   },
   "source": [
    "## Part 5. Modeling"
   ]
  },
  {
   "cell_type": "markdown",
   "id": "ffe3e43f-c829-4c87-9d27-8248535f97fa",
   "metadata": {},
   "source": [
    "Methodology: try out as many classifiers as possible; compare their performance on the test set; pick the top one and do grid search with cross validation to tune hyper parameters to optimize"
   ]
  },
  {
   "cell_type": "markdown",
   "id": "dbd75c4d-47d1-427b-9c84-8915663895a5",
   "metadata": {
    "tags": []
   },
   "source": [
    "### Logistic Regression"
   ]
  },
  {
   "cell_type": "code",
   "execution_count": 33,
   "id": "d46b34b5-1c57-46df-9ecf-f53e37d9cfff",
   "metadata": {
    "execution": {
     "iopub.execute_input": "2022-06-14T04:23:34.860127Z",
     "iopub.status.busy": "2022-06-14T04:23:34.859935Z",
     "iopub.status.idle": "2022-06-14T04:24:00.409462Z",
     "shell.execute_reply": "2022-06-14T04:24:00.408483Z",
     "shell.execute_reply.started": "2022-06-14T04:23:34.860104Z"
    },
    "tags": []
   },
   "outputs": [
    {
     "name": "stdout",
     "output_type": "stream",
     "text": [
      "Logistic Regression Report: \n",
      "               precision    recall  f1-score   support\n",
      "\n",
      "           0       0.99      0.77      0.87    330037\n",
      "           1       0.41      0.95      0.57     54807\n",
      "\n",
      "    accuracy                           0.80    384844\n",
      "   macro avg       0.70      0.86      0.72    384844\n",
      "weighted avg       0.91      0.80      0.83    384844\n",
      "\n",
      "           Logistic Regression\n",
      "accuracy              0.798635\n",
      "precision             0.410868\n",
      "f1                    0.574382\n",
      "roc_auc               0.863449\n",
      "time                 25.538181\n"
     ]
    }
   ],
   "source": [
    "from sklearn.linear_model import LogisticRegression\n",
    "from sklearn.metrics import confusion_matrix, classification_report, accuracy_score, precision_score, f1_score, roc_auc_score\n",
    "import time\n",
    "\n",
    "start = time.time()\n",
    "\n",
    "lr = LogisticRegression()\n",
    "lr.fit(X_train_ohe_sm,y_train_sm)\n",
    "\n",
    "y_prediction = lr.predict(X_test_ohe)\n",
    "accuracy = accuracy_score(y_test,y_prediction)\n",
    "precision = precision_score(y_test,y_prediction)\n",
    "f1 = f1_score(y_test,y_prediction)\n",
    "roc_auc = roc_auc_score(y_test,y_prediction)\n",
    "Report = classification_report(y_test,y_prediction)\n",
    "\n",
    "end = time.time()\n",
    "\n",
    "models_scores_table = pd.DataFrame({'Logistic Regression':[accuracy, precision, f1, roc_auc,end-start]},\n",
    "                                   index=['accuracy', 'precision', 'f1', 'roc_auc', 'time'])\n",
    "\n",
    "print(\"Logistic Regression Report: \\n\", Report)\n",
    "print(models_scores_table.head())"
   ]
  },
  {
   "cell_type": "markdown",
   "id": "36d66ceb-b039-4e9d-aaa7-92e6a5035fb4",
   "metadata": {
    "tags": []
   },
   "source": [
    "### k-NN"
   ]
  },
  {
   "cell_type": "code",
   "execution_count": 34,
   "id": "e7ea8e78-6fd8-4e5b-ae42-ca5b8ca5a974",
   "metadata": {
    "execution": {
     "iopub.execute_input": "2022-06-14T04:24:00.410884Z",
     "iopub.status.busy": "2022-06-14T04:24:00.410657Z",
     "iopub.status.idle": "2022-06-14T04:24:00.415615Z",
     "shell.execute_reply": "2022-06-14T04:24:00.414890Z",
     "shell.execute_reply.started": "2022-06-14T04:24:00.410858Z"
    },
    "tags": []
   },
   "outputs": [],
   "source": [
    "#!pip install jupyterlab_execute_time"
   ]
  },
  {
   "cell_type": "code",
   "execution_count": 35,
   "id": "f9ffb3ec-869c-4302-b78c-5d3d24ab2cbe",
   "metadata": {
    "execution": {
     "iopub.execute_input": "2022-06-14T04:24:00.417040Z",
     "iopub.status.busy": "2022-06-14T04:24:00.416755Z",
     "iopub.status.idle": "2022-06-14T04:24:00.638257Z",
     "shell.execute_reply": "2022-06-14T04:24:00.637575Z",
     "shell.execute_reply.started": "2022-06-14T04:24:00.417014Z"
    },
    "tags": []
   },
   "outputs": [],
   "source": [
    "# normalize (min-max standardize) the train data and test data for kNN and Neural Network usage\n",
    "from sklearn import neighbors, datasets\n",
    "# Standardize features by removing the mean and scaling to unit variance\n",
    "from sklearn import preprocessing\n",
    "\n",
    "min_max_scaler = preprocessing.MinMaxScaler()\n",
    "X_train_ohe_down_minmax = min_max_scaler.fit_transform(X_train_ohe_down)\n",
    "X_test_ohe_minmax = min_max_scaler.transform(X_test_ohe)"
   ]
  },
  {
   "cell_type": "code",
   "execution_count": 36,
   "id": "4396cdb8-fb09-44a8-9ce2-5913e3a39549",
   "metadata": {
    "execution": {
     "iopub.execute_input": "2022-06-14T04:24:00.640068Z",
     "iopub.status.busy": "2022-06-14T04:24:00.639786Z",
     "iopub.status.idle": "2022-06-14T04:44:41.872421Z",
     "shell.execute_reply": "2022-06-14T04:44:41.871602Z",
     "shell.execute_reply.started": "2022-06-14T04:24:00.640031Z"
    },
    "tags": []
   },
   "outputs": [
    {
     "name": "stdout",
     "output_type": "stream",
     "text": [
      "kNN Report: \n",
      "               precision    recall  f1-score   support\n",
      "\n",
      "           0       0.99      0.99      0.99    330037\n",
      "           1       0.92      0.96      0.94     54807\n",
      "\n",
      "    accuracy                           0.98    384844\n",
      "   macro avg       0.96      0.97      0.97    384844\n",
      "weighted avg       0.98      0.98      0.98    384844\n",
      "\n",
      "Latest Model Score Table: \n",
      "            Logistic Regression          kNN\n",
      "accuracy              0.798635     0.982718\n",
      "precision             0.410868     0.921932\n",
      "f1                    0.574382     0.940549\n",
      "roc_auc               0.863449     0.973217\n",
      "time                 25.538181  1241.222115\n"
     ]
    }
   ],
   "source": [
    "from sklearn.neighbors import KNeighborsClassifier\n",
    "from sklearn.metrics import confusion_matrix, classification_report, accuracy_score\n",
    "\n",
    "start = time.time()\n",
    "\n",
    "knn = KNeighborsClassifier(n_neighbors=3)\n",
    "knn.fit(X_train_ohe_down_minmax,y_train_down)\n",
    "\n",
    "y_prediction = knn.predict(X_test_ohe_minmax)\n",
    "accuracy = accuracy_score(y_test,y_prediction)\n",
    "precision = precision_score(y_test,y_prediction)\n",
    "f1 = f1_score(y_test,y_prediction)\n",
    "roc_auc = roc_auc_score(y_test,y_prediction)\n",
    "Report = classification_report(y_test,y_prediction)\n",
    "\n",
    "end = time.time()\n",
    "\n",
    "models_scores_table['kNN']=[accuracy, precision, f1, roc_auc, end-start]\n",
    "\n",
    "print(\"kNN Report: \\n\", Report)\n",
    "print(\"Latest Model Score Table: \\n\", models_scores_table.head())"
   ]
  },
  {
   "cell_type": "markdown",
   "id": "b2a45090-5531-4c7b-8b25-f1acfd376abd",
   "metadata": {},
   "source": [
    "### LGBM"
   ]
  },
  {
   "cell_type": "code",
   "execution_count": 38,
   "id": "cd1ebeb9-1f3a-447d-afa4-9072c6fbdc08",
   "metadata": {
    "execution": {
     "iopub.execute_input": "2022-06-14T04:44:41.886830Z",
     "iopub.status.busy": "2022-06-14T04:44:41.886600Z",
     "iopub.status.idle": "2022-06-14T04:44:41.892787Z",
     "shell.execute_reply": "2022-06-14T04:44:41.891868Z",
     "shell.execute_reply.started": "2022-06-14T04:44:41.886803Z"
    },
    "tags": []
   },
   "outputs": [],
   "source": [
    "#!pip install lightgbm"
   ]
  },
  {
   "cell_type": "code",
   "execution_count": 39,
   "id": "8909ed36-fded-4051-8172-d4371bfe73b5",
   "metadata": {
    "execution": {
     "iopub.execute_input": "2022-06-14T04:44:41.894131Z",
     "iopub.status.busy": "2022-06-14T04:44:41.893916Z",
     "iopub.status.idle": "2022-06-14T04:44:54.105707Z",
     "shell.execute_reply": "2022-06-14T04:44:54.104750Z",
     "shell.execute_reply.started": "2022-06-14T04:44:41.894105Z"
    },
    "tags": []
   },
   "outputs": [
    {
     "name": "stdout",
     "output_type": "stream",
     "text": [
      "LGBM Report: \n",
      "               precision    recall  f1-score   support\n",
      "\n",
      "           0       0.99      1.00      0.99    330037\n",
      "           1       0.97      0.97      0.97     54807\n",
      "\n",
      "    accuracy                           0.99    384844\n",
      "   macro avg       0.98      0.98      0.98    384844\n",
      "weighted avg       0.99      0.99      0.99    384844\n",
      "\n",
      "Latest Model Score Table: \n",
      "            Logistic Regression          kNN       LGBM\n",
      "accuracy              0.798635     0.982718   0.991306\n",
      "precision             0.410868     0.921932   0.972215\n",
      "f1                    0.574382     0.940549   0.969386\n",
      "roc_auc               0.863449     0.973217   0.980993\n",
      "time                 25.538181  1241.222115  12.138561\n"
     ]
    }
   ],
   "source": [
    "import lightgbm as lgb\n",
    "\n",
    "start = time.time()\n",
    "\n",
    "lgb = lgb.LGBMClassifier()\n",
    "lgb.fit(X_train_ohe_sm,y_train_sm)\n",
    "\n",
    "y_prediction = lgb.predict(X_test_ohe)\n",
    "accuracy = accuracy_score(y_test,y_prediction)\n",
    "precision = precision_score(y_test,y_prediction)\n",
    "f1 = f1_score(y_test,y_prediction)\n",
    "roc_auc = roc_auc_score(y_test,y_prediction)\n",
    "Report = classification_report(y_test,y_prediction)\n",
    "\n",
    "end = time.time()\n",
    "\n",
    "models_scores_table['LGBM']=[accuracy, precision, f1, roc_auc, end-start]\n",
    "\n",
    "print(\"LGBM Report: \\n\", Report)\n",
    "print(\"Latest Model Score Table: \\n\", models_scores_table.head())"
   ]
  },
  {
   "cell_type": "markdown",
   "id": "d3674def-5321-44b8-b9cd-963ca27ab350",
   "metadata": {},
   "source": [
    "### Ensemble Methods"
   ]
  },
  {
   "cell_type": "code",
   "execution_count": 40,
   "id": "32266450-ae2f-436c-9f26-2e1c2f8f35fb",
   "metadata": {
    "execution": {
     "iopub.execute_input": "2022-06-14T04:44:54.107286Z",
     "iopub.status.busy": "2022-06-14T04:44:54.107001Z",
     "iopub.status.idle": "2022-06-14T04:45:12.908628Z",
     "shell.execute_reply": "2022-06-14T04:45:12.907677Z",
     "shell.execute_reply.started": "2022-06-14T04:44:54.107248Z"
    },
    "tags": []
   },
   "outputs": [
    {
     "name": "stdout",
     "output_type": "stream",
     "text": [
      "Random Forest Report: \n",
      "               precision    recall  f1-score   support\n",
      "\n",
      "           0       1.00      0.98      0.99    330037\n",
      "           1       0.91      0.98      0.94     54807\n",
      "\n",
      "    accuracy                           0.98    384844\n",
      "   macro avg       0.95      0.98      0.96    384844\n",
      "weighted avg       0.98      0.98      0.98    384844\n",
      "\n",
      "Latest Model Score Table: \n",
      "            Logistic Regression          kNN       LGBM  Random Forest\n",
      "accuracy              0.798635     0.982718   0.991306       0.982289\n",
      "precision             0.410868     0.921932   0.972215       0.905268\n",
      "f1                    0.574382     0.940549   0.969386       0.940219\n",
      "roc_auc               0.863449     0.973217   0.980993       0.980491\n",
      "time                 25.538181  1241.222115  12.138561      18.790537\n"
     ]
    }
   ],
   "source": [
    "# Random Forest\n",
    "from sklearn.ensemble import RandomForestClassifier\n",
    "\n",
    "start = time.time()\n",
    "\n",
    "rf = RandomForestClassifier(max_depth=5, random_state=0)\n",
    "rf.fit(X_train_ohe_down_minmax,y_train_down)\n",
    "\n",
    "y_prediction = rf.predict(X_test_ohe_minmax)\n",
    "accuracy = accuracy_score(y_test,y_prediction)\n",
    "precision = precision_score(y_test,y_prediction)\n",
    "f1 = f1_score(y_test,y_prediction)\n",
    "roc_auc = roc_auc_score(y_test,y_prediction)\n",
    "Report = classification_report(y_test,y_prediction)\n",
    "\n",
    "end = time.time()\n",
    "\n",
    "models_scores_table['Random Forest']=[accuracy, precision, f1, roc_auc, end-start]\n",
    "\n",
    "print(\"Random Forest Report: \\n\", Report)\n",
    "print(\"Latest Model Score Table: \\n\", models_scores_table.head())"
   ]
  },
  {
   "cell_type": "code",
   "execution_count": 41,
   "id": "de645c2a-4b0a-4b0e-bcbf-526c22b91f4e",
   "metadata": {
    "execution": {
     "iopub.execute_input": "2022-06-14T04:45:12.910195Z",
     "iopub.status.busy": "2022-06-14T04:45:12.909833Z",
     "iopub.status.idle": "2022-06-14T04:45:12.914252Z",
     "shell.execute_reply": "2022-06-14T04:45:12.913454Z",
     "shell.execute_reply.started": "2022-06-14T04:45:12.910158Z"
    },
    "tags": []
   },
   "outputs": [],
   "source": [
    "#!pip install xgboost"
   ]
  },
  {
   "cell_type": "code",
   "execution_count": 42,
   "id": "3231817c-a1f4-45eb-b817-1d1de25962dc",
   "metadata": {
    "execution": {
     "iopub.execute_input": "2022-06-14T04:45:12.915888Z",
     "iopub.status.busy": "2022-06-14T04:45:12.915621Z",
     "iopub.status.idle": "2022-06-14T04:45:34.345389Z",
     "shell.execute_reply": "2022-06-14T04:45:34.344349Z",
     "shell.execute_reply.started": "2022-06-14T04:45:12.915855Z"
    },
    "tags": []
   },
   "outputs": [
    {
     "name": "stdout",
     "output_type": "stream",
     "text": [
      "XGBoost Report: \n",
      "               precision    recall  f1-score   support\n",
      "\n",
      "           0       1.00      0.99      0.99    330037\n",
      "           1       0.93      0.98      0.96     54807\n",
      "\n",
      "    accuracy                           0.99    384844\n",
      "   macro avg       0.96      0.99      0.97    384844\n",
      "weighted avg       0.99      0.99      0.99    384844\n",
      "\n",
      "Latest Model Score Table: \n",
      "            Logistic Regression          kNN       LGBM  Random Forest  \\\n",
      "accuracy              0.798635     0.982718   0.991306       0.982289   \n",
      "precision             0.410868     0.921932   0.972215       0.905268   \n",
      "f1                    0.574382     0.940549   0.969386       0.940219   \n",
      "roc_auc               0.863449     0.973217   0.980993       0.980491   \n",
      "time                 25.538181  1241.222115  12.138561      18.790537   \n",
      "\n",
      "             XGBoost  \n",
      "accuracy    0.986940  \n",
      "precision   0.929361  \n",
      "f1          0.955435  \n",
      "roc_auc     0.985303  \n",
      "time       21.172579  \n"
     ]
    }
   ],
   "source": [
    "# XGBoost\n",
    "from xgboost import XGBClassifier, plot_importance\n",
    "\n",
    "start = time.time()\n",
    "\n",
    "xgbc = XGBClassifier(max_depth=5, learning_rate=0.1, n_estimators=100, seed=10)\n",
    "xgbc.fit(X_train_ohe_down_minmax,y_train_down)\n",
    "\n",
    "y_prediction = xgbc.predict(X_test_ohe_minmax)\n",
    "accuracy = accuracy_score(y_test,y_prediction)\n",
    "precision = precision_score(y_test,y_prediction)\n",
    "f1 = f1_score(y_test,y_prediction)\n",
    "roc_auc = roc_auc_score(y_test,y_prediction)\n",
    "Report = classification_report(y_test,y_prediction)\n",
    "\n",
    "end = time.time()\n",
    "\n",
    "models_scores_table['XGBoost']=[accuracy, precision, f1, roc_auc, end-start]\n",
    "\n",
    "print(\"XGBoost Report: \\n\", Report)\n",
    "print(\"Latest Model Score Table: \\n\", models_scores_table.head())"
   ]
  },
  {
   "cell_type": "code",
   "execution_count": 43,
   "id": "0100a599-a966-46cd-8104-b76b2702305a",
   "metadata": {
    "execution": {
     "iopub.execute_input": "2022-06-14T04:45:34.347409Z",
     "iopub.status.busy": "2022-06-14T04:45:34.346631Z",
     "iopub.status.idle": "2022-06-14T04:45:34.800334Z",
     "shell.execute_reply": "2022-06-14T04:45:34.799421Z",
     "shell.execute_reply.started": "2022-06-14T04:45:34.347368Z"
    },
    "tags": []
   },
   "outputs": [
    {
     "data": {
      "text/plain": [
       "<AxesSubplot:title={'center':'Feature importance'}, xlabel='F score', ylabel='Features'>"
      ]
     },
     "execution_count": 43,
     "metadata": {},
     "output_type": "execute_result"
    },
    {
     "data": {
      "image/png": "[encoded data removed]",
      "text/plain": [
       "<Figure size 720x720 with 1 Axes>"
      ]
     },
     "metadata": {
      "needs_background": "light"
     },
     "output_type": "display_data"
    }
   ],
   "source": [
    "#plt.rcParams[\"figure.figsize\"] = (10,10)\n",
    "#plot_importance(xgbc)"
   ]
  },
  {
   "cell_type": "code",
   "execution_count": 44,
   "id": "6502e7a4-8a7e-4d49-92b7-75859f3e8b6e",
   "metadata": {
    "execution": {
     "iopub.execute_input": "2022-06-14T04:45:34.801861Z",
     "iopub.status.busy": "2022-06-14T04:45:34.801644Z",
     "iopub.status.idle": "2022-06-14T04:47:30.247946Z",
     "shell.execute_reply": "2022-06-14T04:47:30.246841Z",
     "shell.execute_reply.started": "2022-06-14T04:45:34.801835Z"
    },
    "tags": []
   },
   "outputs": [
    {
     "name": "stdout",
     "output_type": "stream",
     "text": [
      "Gradient Boosting Report: \n",
      "               precision    recall  f1-score   support\n",
      "\n",
      "           0       1.00      0.99      0.99    330037\n",
      "           1       0.93      0.98      0.95     54807\n",
      "\n",
      "    accuracy                           0.99    384844\n",
      "   macro avg       0.96      0.99      0.97    384844\n",
      "weighted avg       0.99      0.99      0.99    384844\n",
      "\n",
      "Latest Model Score Table: \n",
      "            Logistic Regression          kNN       LGBM  Random Forest  \\\n",
      "accuracy              0.798635     0.982718   0.991306       0.982289   \n",
      "precision             0.410868     0.921932   0.972215       0.905268   \n",
      "f1                    0.574382     0.940549   0.969386       0.940219   \n",
      "roc_auc               0.863449     0.973217   0.980993       0.980491   \n",
      "time                 25.538181  1241.222115  12.138561      18.790537   \n",
      "\n",
      "             XGBoost  Gradient Boosting  \n",
      "accuracy    0.986940           0.986465  \n",
      "precision   0.929361           0.926129  \n",
      "f1          0.955435           0.953904  \n",
      "roc_auc     0.985303           0.985185  \n",
      "time       21.172579         115.434338  \n"
     ]
    }
   ],
   "source": [
    "# Gradient Boosting\n",
    "from sklearn.ensemble import GradientBoostingClassifier\n",
    "\n",
    "start = time.time()\n",
    "\n",
    "gb = GradientBoostingClassifier(n_estimators=100, learning_rate=0.1, max_depth=5, random_state=10)\n",
    "gb.fit(X_train_ohe_down_minmax,y_train_down)\n",
    "\n",
    "y_prediction = gb.predict(X_test_ohe_minmax)\n",
    "accuracy = accuracy_score(y_test,y_prediction)\n",
    "precision = precision_score(y_test,y_prediction)\n",
    "f1 = f1_score(y_test,y_prediction)\n",
    "roc_auc = roc_auc_score(y_test,y_prediction)\n",
    "Report = classification_report(y_test,y_prediction)\n",
    "\n",
    "end = time.time()\n",
    "\n",
    "models_scores_table['Gradient Boosting']=[accuracy, precision, f1, roc_auc, end-start]\n",
    "\n",
    "print(\"Gradient Boosting Report: \\n\", Report)\n",
    "print(\"Latest Model Score Table: \\n\", models_scores_table.head())"
   ]
  },
  {
   "cell_type": "markdown",
   "id": "61c4a555-3389-4b8a-9237-ae21650476f6",
   "metadata": {},
   "source": [
    "### SVM"
   ]
  },
  {
   "cell_type": "code",
   "execution_count": 45,
   "id": "56a81c89-3898-4633-9f45-bceccff5e025",
   "metadata": {
    "execution": {
     "iopub.execute_input": "2022-06-14T04:47:30.249524Z",
     "iopub.status.busy": "2022-06-14T04:47:30.249237Z",
     "iopub.status.idle": "2022-06-14T04:47:30.471588Z",
     "shell.execute_reply": "2022-06-14T04:47:30.470484Z",
     "shell.execute_reply.started": "2022-06-14T04:47:30.249492Z"
    },
    "tags": []
   },
   "outputs": [],
   "source": [
    "# standardize the train data and test data for SVM usage\n",
    "from sklearn.preprocessing import StandardScaler\n",
    "\n",
    "sc1 = StandardScaler()\n",
    "sc1.fit(X_train_ohe_down)\n",
    "X_train_ohe_down_std=sc1.transform(X_train_ohe_down)\n",
    "X_test_ohe_std=sc1.transform(X_test_ohe)"
   ]
  },
  {
   "cell_type": "code",
   "execution_count": 46,
   "id": "5ecc4e8e-9931-42f2-a3cf-0c2563511be1",
   "metadata": {
    "execution": {
     "iopub.execute_input": "2022-06-14T04:47:30.473104Z",
     "iopub.status.busy": "2022-06-14T04:47:30.472848Z",
     "iopub.status.idle": "2022-06-14T05:05:47.609822Z",
     "shell.execute_reply": "2022-06-14T05:05:47.608812Z",
     "shell.execute_reply.started": "2022-06-14T04:47:30.473073Z"
    }
   },
   "outputs": [
    {
     "name": "stdout",
     "output_type": "stream",
     "text": [
      "SVM Report: \n",
      "               precision    recall  f1-score   support\n",
      "\n",
      "           0       1.00      0.99      0.99    330037\n",
      "           1       0.92      0.98      0.95     54807\n",
      "\n",
      "    accuracy                           0.98    384844\n",
      "   macro avg       0.96      0.98      0.97    384844\n",
      "weighted avg       0.99      0.98      0.99    384844\n",
      "\n",
      "Latest Model Score Table: \n",
      "            Logistic Regression          kNN       LGBM  Random Forest  \\\n",
      "accuracy              0.798635     0.982718   0.991306       0.982289   \n",
      "precision             0.410868     0.921932   0.972215       0.905268   \n",
      "f1                    0.574382     0.940549   0.969386       0.940219   \n",
      "roc_auc               0.863449     0.973217   0.980993       0.980491   \n",
      "time                 25.538181  1241.222115  12.138561      18.790537   \n",
      "\n",
      "             XGBoost  Gradient Boosting         SVM  \n",
      "accuracy    0.986940           0.986465    0.984986  \n",
      "precision   0.929361           0.926129    0.919805  \n",
      "f1          0.955435           0.953904    0.948958  \n",
      "roc_auc     0.985303           0.985185    0.982916  \n",
      "time       21.172579         115.434338  492.220432  \n"
     ]
    }
   ],
   "source": [
    "# SVM\n",
    "from sklearn.svm import SVC\n",
    "svm = SVC()\n",
    "svm.fit(X_train_ohe_down_std,y_train_down)\n",
    "\n",
    "start = time.time()\n",
    "\n",
    "y_prediction = svm.predict(X_test_ohe_std)\n",
    "accuracy = accuracy_score(y_test,y_prediction)\n",
    "precision = precision_score(y_test,y_prediction)\n",
    "f1 = f1_score(y_test,y_prediction)\n",
    "roc_auc = roc_auc_score(y_test,y_prediction)\n",
    "Report = classification_report(y_test,y_prediction)\n",
    "\n",
    "end = time.time()\n",
    "\n",
    "models_scores_table['SVM']=[accuracy, precision, f1, roc_auc, end-start]\n",
    "\n",
    "print(\"SVM Report: \\n\", Report)\n",
    "print(\"Latest Model Score Table: \\n\", models_scores_table.head())"
   ]
  },
  {
   "cell_type": "markdown",
   "id": "0f6ef6f4-5e0a-4d15-80e2-fe158e028a61",
   "metadata": {},
   "source": [
    "SVM is too slow to run (~3.5h) - maybe try downsample in the future."
   ]
  },
  {
   "cell_type": "markdown",
   "id": "bc1e520e-b68e-4f75-befa-33ac95f8e9df",
   "metadata": {},
   "source": [
    "### Decision Tree"
   ]
  },
  {
   "cell_type": "code",
   "execution_count": 53,
   "id": "8318303c-1a7d-4e7e-a093-25503e115bb1",
   "metadata": {
    "execution": {
     "iopub.execute_input": "2022-06-14T05:25:25.793169Z",
     "iopub.status.busy": "2022-06-14T05:25:25.792844Z",
     "iopub.status.idle": "2022-06-14T05:26:10.427564Z",
     "shell.execute_reply": "2022-06-14T05:26:10.426540Z",
     "shell.execute_reply.started": "2022-06-14T05:25:25.793133Z"
    },
    "tags": []
   },
   "outputs": [
    {
     "name": "stdout",
     "output_type": "stream",
     "text": [
      "Decision Tree Report: \n",
      "               precision    recall  f1-score   support\n",
      "\n",
      "           0       0.99      0.99      0.99    330037\n",
      "           1       0.94      0.95      0.94     54807\n",
      "\n",
      "    accuracy                           0.98    384844\n",
      "   macro avg       0.96      0.97      0.97    384844\n",
      "weighted avg       0.98      0.98      0.98    384844\n",
      "\n",
      "Latest Model Score Table: \n",
      "            Logistic Regression          kNN       LGBM  Random Forest  \\\n",
      "accuracy              0.798635     0.982718   0.991306       0.982289   \n",
      "precision             0.410868     0.921932   0.972215       0.905268   \n",
      "f1                    0.574382     0.940549   0.969386       0.940219   \n",
      "roc_auc               0.863449     0.973217   0.980993       0.980491   \n",
      "time                 25.538181  1241.222115  12.138561      18.790537   \n",
      "\n",
      "             XGBoost  Gradient Boosting         SVM  Decision Tree  \\\n",
      "accuracy    0.986940           0.986465    0.984986       0.984001   \n",
      "precision   0.929361           0.926129    0.919805       0.938257   \n",
      "f1          0.955435           0.953904    0.948958       0.944185   \n",
      "roc_auc     0.985303           0.985185    0.982916       0.969903   \n",
      "time       21.172579         115.434338  492.220432      44.622547   \n",
      "\n",
      "           Neural Network  \n",
      "accuracy         0.987452  \n",
      "precision        0.958329  \n",
      "f1               0.955831  \n",
      "roc_auc          0.973231  \n",
      "time            90.875547  \n"
     ]
    }
   ],
   "source": [
    "# Decision Tree\n",
    "from sklearn.tree import DecisionTreeClassifier\n",
    "\n",
    "start = time.time()\n",
    "\n",
    "dt = DecisionTreeClassifier(random_state=0)\n",
    "dt.fit(X_train_ohe_sm,y_train_sm)\n",
    "\n",
    "y_prediction = dt.predict(X_test_ohe)\n",
    "accuracy = accuracy_score(y_test,y_prediction)\n",
    "precision = precision_score(y_test,y_prediction)\n",
    "f1 = f1_score(y_test,y_prediction)\n",
    "roc_auc = roc_auc_score(y_test,y_prediction)\n",
    "Report = classification_report(y_test,y_prediction)\n",
    "\n",
    "end = time.time()\n",
    "\n",
    "models_scores_table['Decision Tree']=[accuracy, precision, f1, roc_auc, end-start]\n",
    "\n",
    "print(\"Decision Tree Report: \\n\", Report)\n",
    "print(\"Latest Model Score Table: \\n\", models_scores_table.head())"
   ]
  },
  {
   "cell_type": "markdown",
   "id": "68f91092-234b-4374-b0ae-fb93b255c51c",
   "metadata": {
    "tags": []
   },
   "source": [
    "### Neural Network"
   ]
  },
  {
   "cell_type": "code",
   "execution_count": 54,
   "id": "21aeb753-3179-479e-8526-b43fe81fadcb",
   "metadata": {
    "execution": {
     "iopub.execute_input": "2022-06-14T05:27:34.862645Z",
     "iopub.status.busy": "2022-06-14T05:27:34.861877Z",
     "iopub.status.idle": "2022-06-14T05:27:35.498479Z",
     "shell.execute_reply": "2022-06-14T05:27:35.497583Z",
     "shell.execute_reply.started": "2022-06-14T05:27:34.862597Z"
    },
    "tags": []
   },
   "outputs": [],
   "source": [
    "# normalize (min-max standardize) the train data and test data for kNN and Neural Network usage\n",
    "\n",
    "min_max_scaler = preprocessing.MinMaxScaler()\n",
    "X_train_ohe_sm_minmax = min_max_scaler.fit_transform(X_train_ohe_sm)\n",
    "X_test_ohe_minmax = min_max_scaler.transform(X_test_ohe)"
   ]
  },
  {
   "cell_type": "code",
   "execution_count": 55,
   "id": "bfd574fe-9bd0-463c-9af5-94edbc542cfa",
   "metadata": {
    "execution": {
     "iopub.execute_input": "2022-06-14T05:27:35.500666Z",
     "iopub.status.busy": "2022-06-14T05:27:35.500314Z",
     "iopub.status.idle": "2022-06-14T05:29:08.558332Z",
     "shell.execute_reply": "2022-06-14T05:29:08.557435Z",
     "shell.execute_reply.started": "2022-06-14T05:27:35.500625Z"
    },
    "tags": []
   },
   "outputs": [
    {
     "name": "stdout",
     "output_type": "stream",
     "text": [
      "Neural Network Report: \n",
      "               precision    recall  f1-score   support\n",
      "\n",
      "           0       0.99      0.99      0.99    330037\n",
      "           1       0.96      0.95      0.96     54807\n",
      "\n",
      "    accuracy                           0.99    384844\n",
      "   macro avg       0.98      0.97      0.97    384844\n",
      "weighted avg       0.99      0.99      0.99    384844\n",
      "\n",
      "Latest Model Score Table: \n",
      "            Logistic Regression          kNN       LGBM  Random Forest  \\\n",
      "accuracy              0.798635     0.982718   0.991306       0.982289   \n",
      "precision             0.410868     0.921932   0.972215       0.905268   \n",
      "f1                    0.574382     0.940549   0.969386       0.940219   \n",
      "roc_auc               0.863449     0.973217   0.980993       0.980491   \n",
      "time                 25.538181  1241.222115  12.138561      18.790537   \n",
      "\n",
      "             XGBoost  Gradient Boosting         SVM  Decision Tree  \\\n",
      "accuracy    0.986940           0.986465    0.984986       0.984001   \n",
      "precision   0.929361           0.926129    0.919805       0.938257   \n",
      "f1          0.955435           0.953904    0.948958       0.944185   \n",
      "roc_auc     0.985303           0.985185    0.982916       0.969903   \n",
      "time       21.172579         115.434338  492.220432      44.622547   \n",
      "\n",
      "           Neural Network  \n",
      "accuracy         0.987452  \n",
      "precision        0.958329  \n",
      "f1               0.955831  \n",
      "roc_auc          0.973231  \n",
      "time            93.044780  \n"
     ]
    }
   ],
   "source": [
    "# Neural Network\n",
    "from sklearn.neural_network import MLPClassifier\n",
    "\n",
    "start = time.time()\n",
    "\n",
    "nn = MLPClassifier(solver='adam', alpha=1e-5, hidden_layer_sizes=(5, 2), random_state=1)\n",
    "nn.fit(X_train_ohe_sm_minmax,y_train_sm)\n",
    "\n",
    "y_prediction = nn.predict(X_test_ohe_minmax)\n",
    "accuracy = accuracy_score(y_test,y_prediction)\n",
    "precision = precision_score(y_test,y_prediction)\n",
    "f1 = f1_score(y_test,y_prediction)\n",
    "roc_auc = roc_auc_score(y_test,y_prediction)\n",
    "Report = classification_report(y_test,y_prediction)\n",
    "\n",
    "end = time.time()\n",
    "\n",
    "models_scores_table['Neural Network']=[accuracy, precision, f1, roc_auc, end-start]\n",
    "\n",
    "print(\"Neural Network Report: \\n\", Report)\n",
    "print(\"Latest Model Score Table: \\n\", models_scores_table.head())\n",
    "\n"
   ]
  },
  {
   "cell_type": "markdown",
   "id": "b1f03f28-41ae-4975-bd51-2ab6a6f29dfa",
   "metadata": {
    "tags": []
   },
   "source": [
    "### Hyperparameter tuning for the best model - LGBM"
   ]
  },
  {
   "cell_type": "code",
   "execution_count": 33,
   "id": "4fd87e02-53a7-4a5b-ab47-50ccc87788f0",
   "metadata": {
    "execution": {
     "iopub.execute_input": "2022-06-16T00:08:11.413573Z",
     "iopub.status.busy": "2022-06-16T00:08:11.413067Z",
     "iopub.status.idle": "2022-06-16T00:08:11.484045Z",
     "shell.execute_reply": "2022-06-16T00:08:11.482948Z",
     "shell.execute_reply.started": "2022-06-16T00:08:11.413537Z"
    },
    "tags": []
   },
   "outputs": [],
   "source": [
    "import lightgbm as lgb\n",
    "from sklearn.model_selection import GridSearchCV  # Perforing grid search"
   ]
  },
  {
   "cell_type": "code",
   "execution_count": 34,
   "id": "c45676c9-390a-4532-9fa6-9e4ea11160dc",
   "metadata": {
    "execution": {
     "iopub.execute_input": "2022-06-16T00:08:11.486041Z",
     "iopub.status.busy": "2022-06-16T00:08:11.485734Z",
     "iopub.status.idle": "2022-06-16T00:20:27.604258Z",
     "shell.execute_reply": "2022-06-16T00:20:27.602223Z",
     "shell.execute_reply.started": "2022-06-16T00:08:11.486011Z"
    },
    "tags": []
   },
   "outputs": [
    {
     "name": "stdout",
     "output_type": "stream",
     "text": [
      "best parameter:{'learning_rate': 0.1, 'n_estimators': 50, 'num_leaves': 60}\n",
      "best roc_auc:0.9911978010474378\n",
      "[0.98427026 0.98738212 0.9892893  0.9892088  0.99060852 0.99117984\n",
      " 0.99049059 0.9903892  0.98989254 0.98913971 0.99071125 0.9911978\n",
      " 0.98924554 0.98824338 0.98728332 0.98469546 0.98281563 0.98230651\n",
      " 0.99038973 0.99037174 0.98970219 0.98466172 0.98233109 0.98232472\n",
      " 0.97790484 0.97738729 0.97841799]\n",
      "[{'learning_rate': 0.05, 'n_estimators': 50, 'num_leaves': 15}, {'learning_rate': 0.05, 'n_estimators': 50, 'num_leaves': 31}, {'learning_rate': 0.05, 'n_estimators': 50, 'num_leaves': 60}, {'learning_rate': 0.05, 'n_estimators': 100, 'num_leaves': 15}, {'learning_rate': 0.05, 'n_estimators': 100, 'num_leaves': 31}, {'learning_rate': 0.05, 'n_estimators': 100, 'num_leaves': 60}, {'learning_rate': 0.05, 'n_estimators': 150, 'num_leaves': 15}, {'learning_rate': 0.05, 'n_estimators': 150, 'num_leaves': 31}, {'learning_rate': 0.05, 'n_estimators': 150, 'num_leaves': 60}, {'learning_rate': 0.1, 'n_estimators': 50, 'num_leaves': 15}, {'learning_rate': 0.1, 'n_estimators': 50, 'num_leaves': 31}, {'learning_rate': 0.1, 'n_estimators': 50, 'num_leaves': 60}, {'learning_rate': 0.1, 'n_estimators': 100, 'num_leaves': 15}, {'learning_rate': 0.1, 'n_estimators': 100, 'num_leaves': 31}, {'learning_rate': 0.1, 'n_estimators': 100, 'num_leaves': 60}, {'learning_rate': 0.1, 'n_estimators': 150, 'num_leaves': 15}, {'learning_rate': 0.1, 'n_estimators': 150, 'num_leaves': 31}, {'learning_rate': 0.1, 'n_estimators': 150, 'num_leaves': 60}, {'learning_rate': 0.15, 'n_estimators': 50, 'num_leaves': 15}, {'learning_rate': 0.15, 'n_estimators': 50, 'num_leaves': 31}, {'learning_rate': 0.15, 'n_estimators': 50, 'num_leaves': 60}, {'learning_rate': 0.15, 'n_estimators': 100, 'num_leaves': 15}, {'learning_rate': 0.15, 'n_estimators': 100, 'num_leaves': 31}, {'learning_rate': 0.15, 'n_estimators': 100, 'num_leaves': 60}, {'learning_rate': 0.15, 'n_estimators': 150, 'num_leaves': 15}, {'learning_rate': 0.15, 'n_estimators': 150, 'num_leaves': 31}, {'learning_rate': 0.15, 'n_estimators': 150, 'num_leaves': 60}]\n"
     ]
    }
   ],
   "source": [
    "parameters = {\n",
    "    'learning_rate': [0.05,0.1,0.15],\n",
    "    'num_leaves': [15,31,60],\n",
    "    'n_estimators': [50,100,150]\n",
    "}\n",
    "\n",
    "gbm = lgb.LGBMClassifier(objective='binary', \n",
    "                          n_jobs=-1\n",
    "                          #is_unbalance=True, \n",
    "                          #num_threads=8, \n",
    "                          #two_round=True,\n",
    "                          #bagging_fraction=0.9,\n",
    "                          #bagging_freq=8,\n",
    "                          #metric = 'roc_auc',\n",
    "                          #verbose = 0,\n",
    "                          #boosting_type='gbdt',\n",
    "                          #feature_fraction=0.8,\n",
    "                          #learning_rate=0.1,\n",
    "                          #min_child_samples=10,\n",
    "                          #min_child_weight=5,\n",
    "                          #min_data_in_leaf=20,\n",
    "                          #min_split_gain=0.0,\n",
    "                          #n_estimators=10,\n",
    "                          #num_leaves=80,\n",
    "                          #reg_alpha=0.0,\n",
    "                          #reg_lambda=0.0,\n",
    "                          #subsample=1.0,\n",
    "                          #lambda_l1= 0.6,\n",
    "                          #lambda_l2= 0,\n",
    "                          #cat_smooth= 35,\n",
    "                          #force_row_wise='true',\n",
    "                          #max_dept=24\n",
    "                        )\n",
    "gsearch = GridSearchCV(gbm, param_grid=parameters, scoring='f1', cv=3)\n",
    "gsearch.fit(X_train_ohe_sm,y_train_sm)\n",
    "\n",
    "print('best parameter:{0}'.format(gsearch.best_params_))\n",
    "print('best roc_auc:{0}'.format(gsearch.best_score_))\n",
    "print(gsearch.cv_results_['mean_test_score'])\n",
    "print(gsearch.cv_results_['params'])"
   ]
  },
  {
   "cell_type": "code",
   "execution_count": 35,
   "id": "b9c5bb73-1424-41db-a43b-959bbe20fb21",
   "metadata": {
    "execution": {
     "iopub.execute_input": "2022-06-16T00:20:27.606010Z",
     "iopub.status.busy": "2022-06-16T00:20:27.605751Z",
     "iopub.status.idle": "2022-06-16T00:20:28.870488Z",
     "shell.execute_reply": "2022-06-16T00:20:28.869268Z",
     "shell.execute_reply.started": "2022-06-16T00:20:27.605980Z"
    },
    "tags": []
   },
   "outputs": [
    {
     "name": "stdout",
     "output_type": "stream",
     "text": [
      "The f1 score on test set is: 0.9656365523646496.\n",
      "\n",
      "The accuracy score on test set is: 0.9901934290257871.\n",
      "\n",
      "The roc auc score on test set is: 0.9985587764501519.\n",
      "\n"
     ]
    }
   ],
   "source": [
    "from sklearn.metrics import roc_auc_score\n",
    "from sklearn.metrics import accuracy_score\n",
    "from sklearn.metrics import f1_score\n",
    "\n",
    "y_pred_prob = gsearch.predict_proba(X_test_ohe)[:, 1]\n",
    "y_pred = gsearch.predict(X_test_ohe)\n",
    "print(\"The f1 score on test set is: {}.\\n\".format(f1_score(y_test, y_pred)))\n",
    "print(\"The accuracy score on test set is: {}.\\n\".format(accuracy_score(y_test, y_pred)))\n",
    "print(\"The roc auc score on test set is: {}.\\n\".format(roc_auc_score(y_test, y_pred_prob)))\n"
   ]
  },
  {
   "cell_type": "markdown",
   "id": "9b005f95-8e26-4e2a-97ff-c5a28f9830c9",
   "metadata": {},
   "source": [
    "There is no sigficant change of f1 score from the LGBM model to the hyperparameter tuned LGBM model with a high-enough f1 0.969. So we will stop trying to improve the model here. Besides, the LGBM model is quick enough that it only took about 12 second to train on the upscaled training set with 1.3M data points, therefore there is no need to do feature selection to further speed up. Lastly, we do not further consider ensemble methods to build a super model using the outputs of the several good models (e.g. LGBM, XGBoost, Gradient Boosting, NN) as the input because it might result in higher f1 score but definitely lower speed. \n",
    "<br>\n",
    "In conclusion, the LGBM model results in the best model performance (f1, accuracy, roc auc and speed)"
   ]
  },
  {
   "cell_type": "markdown",
   "id": "0562f9cd-eb84-4b33-b452-c3e56eb27f74",
   "metadata": {
    "tags": []
   },
   "source": [
    "## Part 6. Summary"
   ]
  },
  {
   "cell_type": "markdown",
   "id": "72ad8556-5668-41cd-80b5-1784da4d409e",
   "metadata": {},
   "source": [
    "__Business Strategy recommendation__: \n",
    "<br>\n",
    " -  Identify potential design service customers from the unlabled customers no matter existing ones or future ones using the LGBM model after going through the data pipelines (data cleaning - feature engineering) because such model has the shortest running time and highest f1 score (f1 score takes both precision and recall into consideration, which is a quite reasonable accuracy metric when it comes to imbalanced data - only 14% of users could be potential design service customers).\n",
    "<br>\n",
    "\n",
    "__Next Steps__: \n",
    " - Clean the code to form a straightforward data pipeline (data cleaning - feature engineering - LGBM model - output prediction)\n",
    " - Put historical customer data into the model and identify existing potential design service customers\n",
    " - Run this model every month to identify potential design service customers from future acquired new customers\n"
   ]
  }
 ],
 "metadata": {
  "environment": {
   "kernel": "python3",
   "name": "common-cpu.m87",
   "type": "gcloud",
   "uri": "gcr.io/deeplearning-platform-release/base-cpu:m87"
  },
  "kernelspec": {
   "display_name": "Python 3",
   "language": "python",
   "name": "python3"
  },
  "language_info": {
   "codemirror_mode": {
    "name": "ipython",
    "version": 3
   },
   "file_extension": ".py",
   "mimetype": "text/x-python",
   "name": "python",
   "nbconvert_exporter": "python",
   "pygments_lexer": "ipython3",
   "version": "3.7.12"
  },
  "toc-autonumbering": false,
  "toc-showmarkdowntxt": false
 },
 "nbformat": 4,
 "nbformat_minor": 5
}
